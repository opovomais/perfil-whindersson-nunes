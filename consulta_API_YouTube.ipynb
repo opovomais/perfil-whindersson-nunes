{
 "cells": [
  {
   "cell_type": "markdown",
   "metadata": {
    "id": "-gpMuinBpe9C"
   },
   "source": [
    "**INTRODUÇÃO**\n",
    "\n",
    "Neste notebook, acessamos a API do YouTube para coletar informações sobre os vídeos de Whindersson Nunes, como visualizações, curtidas e comentários ao longo dos anos, e de seu pseudônimo, Lil Whind.\n",
    "\n",
    "**ÍNDICE**\n",
    "\n",
    "1. [Consulta à API](#Consulta)\n",
    "\n",
    "  1.1 [Instalação de bibliotecas e autenticação](#Instalacao)\n",
    "\n",
    "\n",
    "2. [Whindersson Nunes](#Whindersson)\n",
    "\n",
    "  2.1 [Estatísticas do canal](#Estatisticas-Whindersson)\n",
    "\n",
    "  2.2 [Informações de playlists e vídeos](#Playlists-Whindersson)\n",
    "  \n",
    "  2.3 [Informações sobre comentários, likes e visualizações](#Analise-Whindersson)\n",
    "\n",
    "\n",
    "3. [Lil Whind](#Lil-Whind)\n",
    "\n",
    "  3.1 [Estatísticas do canal](#Estatisticas-Lil)\n",
    "\n",
    "  3.2 [Informações de playlists e vídeos](#Playlists-Lil)\n",
    "  \n",
    "  3.3 [Informações sobre comentários, likes e visualizações](#Analise-Lil)"
   ]
  },
  {
   "cell_type": "code",
   "execution_count": 1,
   "metadata": {
    "executionInfo": {
     "elapsed": 421,
     "status": "ok",
     "timestamp": 1676402424547,
     "user": {
      "displayName": "Gabriela Custódio",
      "userId": "12660031906492553036"
     },
     "user_tz": 180
    },
    "id": "DAiNDgmD9XZk"
   },
   "outputs": [],
   "source": [
    "path = 'dataYoutube/'"
   ]
  },
  {
   "cell_type": "markdown",
   "metadata": {
    "id": "e_0LF5mx8XKI"
   },
   "source": [
    "## 1. Consulta à API <a name=\"Consulta\"></a>"
   ]
  },
  {
   "cell_type": "markdown",
   "metadata": {
    "id": "SLRmqstYp7CK"
   },
   "source": [
    "### 1.1 Instalação de bibliotecas e autenticação <a name=\"Instalacao\"></a>"
   ]
  },
  {
   "cell_type": "code",
   "execution_count": null,
   "metadata": {
    "colab": {
     "base_uri": "https://localhost:8080/"
    },
    "executionInfo": {
     "elapsed": 9159,
     "status": "ok",
     "timestamp": 1676402635702,
     "user": {
      "displayName": "Gabriela Custódio",
      "userId": "12660031906492553036"
     },
     "user_tz": 180
    },
    "id": "caauiYBiBmo3",
    "outputId": "752bacba-0e9f-4b90-91ef-238a27788c30"
   },
   "outputs": [],
   "source": [
    "!pip install --upgrade google-api-python-client"
   ]
  },
  {
   "cell_type": "code",
   "execution_count": 2,
   "metadata": {
    "executionInfo": {
     "elapsed": 1199,
     "status": "ok",
     "timestamp": 1676402636891,
     "user": {
      "displayName": "Gabriela Custódio",
      "userId": "12660031906492553036"
     },
     "user_tz": 180
    },
    "id": "bA_KXqskBj4x"
   },
   "outputs": [],
   "source": [
    "from pandas import pandas as pd\n",
    "from googleapiclient.discovery import build"
   ]
  },
  {
   "cell_type": "code",
   "execution_count": 61,
   "metadata": {
    "executionInfo": {
     "elapsed": 33,
     "status": "ok",
     "timestamp": 1676402636892,
     "user": {
      "displayName": "Gabriela Custódio",
      "userId": "12660031906492553036"
     },
     "user_tz": 180
    },
    "id": "lCEhrRmQFhq4"
   },
   "outputs": [],
   "source": [
    "youTubeApiKey = 'youTubeApiKey'"
   ]
  },
  {
   "cell_type": "code",
   "execution_count": 4,
   "metadata": {
    "executionInfo": {
     "elapsed": 33,
     "status": "ok",
     "timestamp": 1676402636894,
     "user": {
      "displayName": "Gabriela Custódio",
      "userId": "12660031906492553036"
     },
     "user_tz": 180
    },
    "id": "B84FA5xNF5gs"
   },
   "outputs": [],
   "source": [
    "youtube = build('youtube', 'v3', developerKey=youTubeApiKey)"
   ]
  },
  {
   "cell_type": "markdown",
   "metadata": {
    "id": "5uV-fSkaX888"
   },
   "source": [
    "## 2. Whindersson Nunes <a name=\"Whindersson\"></a>"
   ]
  },
  {
   "cell_type": "markdown",
   "metadata": {
    "id": "6045vcux9A2I"
   },
   "source": [
    "### 2.1 Estatísticas do canal <a name=\"Estatisticas-Whindersson\"></a>"
   ]
  },
  {
   "cell_type": "code",
   "execution_count": 5,
   "metadata": {
    "executionInfo": {
     "elapsed": 33,
     "status": "ok",
     "timestamp": 1676402636895,
     "user": {
      "displayName": "Gabriela Custódio",
      "userId": "12660031906492553036"
     },
     "user_tz": 180
    },
    "id": "SUQANHIOK_B0"
   },
   "outputs": [],
   "source": [
    "# id do canal do Whindersson Nunes\n",
    "\n",
    "channel_id = 'UC3KQ5GWANYF8lChqjZpXsQw'"
   ]
  },
  {
   "cell_type": "code",
   "execution_count": 6,
   "metadata": {
    "executionInfo": {
     "elapsed": 34,
     "status": "ok",
     "timestamp": 1676402636897,
     "user": {
      "displayName": "Gabriela Custódio",
      "userId": "12660031906492553036"
     },
     "user_tz": 180
    },
    "id": "6jCNh3LZGBbm"
   },
   "outputs": [],
   "source": [
    "# informações sobre canal\n",
    "\n",
    "canalWhindersson = youtube.channels().list(part=['snippet','statistics'], id=channel_id).execute()"
   ]
  },
  {
   "cell_type": "code",
   "execution_count": 7,
   "metadata": {
    "colab": {
     "base_uri": "https://localhost:8080/"
    },
    "executionInfo": {
     "elapsed": 33,
     "status": "ok",
     "timestamp": 1676402636898,
     "user": {
      "displayName": "Gabriela Custódio",
      "userId": "12660031906492553036"
     },
     "user_tz": 180
    },
    "id": "m3ij0GC5sNUu",
    "outputId": "64e6d2f3-2560-4bc8-d3c0-16cf1dc1c6b4"
   },
   "outputs": [
    {
     "data": {
      "text/plain": [
       "{'kind': 'youtube#channelListResponse',\n",
       " 'etag': 'Mn8vuZYX3lRDu1M29sEZ1eeemqo',\n",
       " 'pageInfo': {'totalResults': 1, 'resultsPerPage': 5},\n",
       " 'items': [{'kind': 'youtube#channel',\n",
       "   'etag': 'ImRO6Sde1H8boDrUrv8_HbB6GIc',\n",
       "   'id': 'UC3KQ5GWANYF8lChqjZpXsQw',\n",
       "   'snippet': {'title': 'whinderssonnunes',\n",
       "    'description': 'Lampião do Youtube\\nPublicidade / Shows / Eventos: kaka@nonstopproducoes.com.br',\n",
       "    'customUrl': '@whindersson',\n",
       "    'publishedAt': '2013-01-21T13:06:10Z',\n",
       "    'thumbnails': {'default': {'url': 'https://yt3.ggpht.com/DOwHDrnH5l4IYq9yGJ0EhxdctKnQUHgzvzJPUy6m-B8-TMruCi2HcQ4HTh5cT1F-zUnr-oPj=s88-c-k-c0x00ffffff-no-rj',\n",
       "      'width': 88,\n",
       "      'height': 88},\n",
       "     'medium': {'url': 'https://yt3.ggpht.com/DOwHDrnH5l4IYq9yGJ0EhxdctKnQUHgzvzJPUy6m-B8-TMruCi2HcQ4HTh5cT1F-zUnr-oPj=s240-c-k-c0x00ffffff-no-rj',\n",
       "      'width': 240,\n",
       "      'height': 240},\n",
       "     'high': {'url': 'https://yt3.ggpht.com/DOwHDrnH5l4IYq9yGJ0EhxdctKnQUHgzvzJPUy6m-B8-TMruCi2HcQ4HTh5cT1F-zUnr-oPj=s800-c-k-c0x00ffffff-no-rj',\n",
       "      'width': 800,\n",
       "      'height': 800}},\n",
       "    'localized': {'title': 'whinderssonnunes',\n",
       "     'description': 'Lampião do Youtube\\nPublicidade / Shows / Eventos: kaka@nonstopproducoes.com.br'}},\n",
       "   'statistics': {'viewCount': '4193902478',\n",
       "    'subscriberCount': '44000000',\n",
       "    'hiddenSubscriberCount': False,\n",
       "    'videoCount': '527'}}]}"
      ]
     },
     "execution_count": 7,
     "metadata": {},
     "output_type": "execute_result"
    }
   ],
   "source": [
    "canalWhindersson"
   ]
  },
  {
   "cell_type": "code",
   "execution_count": 8,
   "metadata": {
    "executionInfo": {
     "elapsed": 30,
     "status": "ok",
     "timestamp": 1676402636899,
     "user": {
      "displayName": "Gabriela Custódio",
      "userId": "12660031906492553036"
     },
     "user_tz": 180
    },
    "id": "PaWZ3_T705gL"
   },
   "outputs": [],
   "source": [
    "estatisticas_canal = pd.DataFrame.from_dict(canalWhindersson['items'][0]['statistics'], orient='index').reset_index().rename(columns={'index': 'estatísticas', 0: 'valores'})"
   ]
  },
  {
   "cell_type": "code",
   "execution_count": 9,
   "metadata": {
    "colab": {
     "base_uri": "https://localhost:8080/",
     "height": 0
    },
    "executionInfo": {
     "elapsed": 30,
     "status": "ok",
     "timestamp": 1676402636900,
     "user": {
      "displayName": "Gabriela Custódio",
      "userId": "12660031906492553036"
     },
     "user_tz": 180
    },
    "id": "IMtq8Via8LEy",
    "outputId": "035508a2-02db-497a-9ffb-c8870ee9d64f"
   },
   "outputs": [
    {
     "data": {
      "text/html": [
       "<div>\n",
       "<style scoped>\n",
       "    .dataframe tbody tr th:only-of-type {\n",
       "        vertical-align: middle;\n",
       "    }\n",
       "\n",
       "    .dataframe tbody tr th {\n",
       "        vertical-align: top;\n",
       "    }\n",
       "\n",
       "    .dataframe thead th {\n",
       "        text-align: right;\n",
       "    }\n",
       "</style>\n",
       "<table border=\"1\" class=\"dataframe\">\n",
       "  <thead>\n",
       "    <tr style=\"text-align: right;\">\n",
       "      <th></th>\n",
       "      <th>estatísticas</th>\n",
       "      <th>valores</th>\n",
       "    </tr>\n",
       "  </thead>\n",
       "  <tbody>\n",
       "    <tr>\n",
       "      <th>0</th>\n",
       "      <td>viewCount</td>\n",
       "      <td>4193902478</td>\n",
       "    </tr>\n",
       "    <tr>\n",
       "      <th>1</th>\n",
       "      <td>subscriberCount</td>\n",
       "      <td>44000000</td>\n",
       "    </tr>\n",
       "    <tr>\n",
       "      <th>2</th>\n",
       "      <td>hiddenSubscriberCount</td>\n",
       "      <td>False</td>\n",
       "    </tr>\n",
       "    <tr>\n",
       "      <th>3</th>\n",
       "      <td>videoCount</td>\n",
       "      <td>527</td>\n",
       "    </tr>\n",
       "  </tbody>\n",
       "</table>\n",
       "</div>"
      ],
      "text/plain": [
       "            estatísticas     valores\n",
       "0              viewCount  4193902478\n",
       "1        subscriberCount    44000000\n",
       "2  hiddenSubscriberCount       False\n",
       "3             videoCount         527"
      ]
     },
     "execution_count": 9,
     "metadata": {},
     "output_type": "execute_result"
    }
   ],
   "source": [
    "estatisticas_canal"
   ]
  },
  {
   "cell_type": "markdown",
   "metadata": {
    "id": "rgb8p97O2i0l"
   },
   "source": [
    "### 2.2 Informações de playlists e vídeos <a name=\"Playlists-Whindersson\"></a>"
   ]
  },
  {
   "cell_type": "code",
   "execution_count": 10,
   "metadata": {
    "executionInfo": {
     "elapsed": 29,
     "status": "ok",
     "timestamp": 1676402636902,
     "user": {
      "displayName": "Gabriela Custódio",
      "userId": "12660031906492553036"
     },
     "user_tz": 180
    },
    "id": "hI-CwwDJHhaY"
   },
   "outputs": [],
   "source": [
    "# coletar informações das playlists do canal\n",
    "\n",
    "nextPageToken = None\n",
    "\n",
    "playlists_whindersson = []\n",
    "\n",
    "while True:\n",
    "    resultado = youtube.playlists().list(part=['snippet'], channelId=channel_id, pageToken=nextPageToken).execute()\n",
    "    \n",
    "    playlists_whindersson += resultado['items']\n",
    "    \n",
    "    nextPageToken = resultado.get('nextPageToken')\n",
    "    \n",
    "    if nextPageToken is None:\n",
    "        break\n",
    "\n",
    "# criar lista com os Ids das playlists\n",
    "\n",
    "ids_playlists = list(map(lambda x: x['id'], playlists_whindersson))\n",
    "nome_playlists = list(map(lambda x: x['snippet']['title'], playlists_whindersson))\n",
    "\n",
    "# criar dataframe com informações de id e nome das playlists\n",
    "info_playlists = dict(zip(ids_playlists, nome_playlists))\n",
    "df_info_playlists = pd.DataFrame.from_dict(info_playlists, orient='index').reset_index().rename(columns={'index': 'id_playlist', 0:'nome_playlist'})"
   ]
  },
  {
   "cell_type": "code",
   "execution_count": 11,
   "metadata": {
    "colab": {
     "base_uri": "https://localhost:8080/",
     "height": 0
    },
    "executionInfo": {
     "elapsed": 29,
     "status": "ok",
     "timestamp": 1676402636903,
     "user": {
      "displayName": "Gabriela Custódio",
      "userId": "12660031906492553036"
     },
     "user_tz": 180
    },
    "id": "XnbuyavODsPY",
    "outputId": "fbc4ebc0-873c-4904-d8be-6a6d79d11bb6"
   },
   "outputs": [
    {
     "data": {
      "text/html": [
       "<div>\n",
       "<style scoped>\n",
       "    .dataframe tbody tr th:only-of-type {\n",
       "        vertical-align: middle;\n",
       "    }\n",
       "\n",
       "    .dataframe tbody tr th {\n",
       "        vertical-align: top;\n",
       "    }\n",
       "\n",
       "    .dataframe thead th {\n",
       "        text-align: right;\n",
       "    }\n",
       "</style>\n",
       "<table border=\"1\" class=\"dataframe\">\n",
       "  <thead>\n",
       "    <tr style=\"text-align: right;\">\n",
       "      <th></th>\n",
       "      <th>id_playlist</th>\n",
       "      <th>nome_playlist</th>\n",
       "    </tr>\n",
       "  </thead>\n",
       "  <tbody>\n",
       "    <tr>\n",
       "      <th>0</th>\n",
       "      <td>PLypClbHDpCW0dYckCViQEEBj2ztjG545I</td>\n",
       "      <td>VEDA</td>\n",
       "    </tr>\n",
       "    <tr>\n",
       "      <th>1</th>\n",
       "      <td>PLypClbHDpCW3UZ-zEkSBWqNwpL_VbVCTH</td>\n",
       "      <td>Lil Whind - Frente &amp; Verso</td>\n",
       "    </tr>\n",
       "    <tr>\n",
       "      <th>2</th>\n",
       "      <td>PLypClbHDpCW1H_VYaQvn1wplR2bUrmnnp</td>\n",
       "      <td>Whindersson: Próxima Parada S2</td>\n",
       "    </tr>\n",
       "    <tr>\n",
       "      <th>3</th>\n",
       "      <td>PLypClbHDpCW2O_RQYYs-sy4_xvfy_b6b1</td>\n",
       "      <td>Whindersson: Próxima Parada</td>\n",
       "    </tr>\n",
       "    <tr>\n",
       "      <th>4</th>\n",
       "      <td>PLypClbHDpCW3-wt36qfTiwF-qW4UDDvpW</td>\n",
       "      <td>PARÓDIAS!</td>\n",
       "    </tr>\n",
       "  </tbody>\n",
       "</table>\n",
       "</div>"
      ],
      "text/plain": [
       "                          id_playlist                   nome_playlist\n",
       "0  PLypClbHDpCW0dYckCViQEEBj2ztjG545I                            VEDA\n",
       "1  PLypClbHDpCW3UZ-zEkSBWqNwpL_VbVCTH      Lil Whind - Frente & Verso\n",
       "2  PLypClbHDpCW1H_VYaQvn1wplR2bUrmnnp  Whindersson: Próxima Parada S2\n",
       "3  PLypClbHDpCW2O_RQYYs-sy4_xvfy_b6b1     Whindersson: Próxima Parada\n",
       "4  PLypClbHDpCW3-wt36qfTiwF-qW4UDDvpW                       PARÓDIAS!"
      ]
     },
     "execution_count": 11,
     "metadata": {},
     "output_type": "execute_result"
    }
   ],
   "source": [
    "df_info_playlists.head()"
   ]
  },
  {
   "cell_type": "code",
   "execution_count": 12,
   "metadata": {
    "executionInfo": {
     "elapsed": 833,
     "status": "ok",
     "timestamp": 1676402637709,
     "user": {
      "displayName": "Gabriela Custódio",
      "userId": "12660031906492553036"
     },
     "user_tz": 180
    },
    "id": "gVqQwSTVSsoE"
   },
   "outputs": [],
   "source": [
    "# coletar informações dos vídeos das playlists\n",
    "\n",
    "nextPageToken = None\n",
    "\n",
    "itens_playlists = []\n",
    "\n",
    "for playlist in ids_playlists:\n",
    "    while True:\n",
    "        videos_playlists = youtube.playlistItems().list(part='snippet', playlistId=playlist, pageToken=nextPageToken).execute()\n",
    "        itens_playlists += videos_playlists['items']\n",
    "        \n",
    "        nextPageToken = videos_playlists.get('nextPageToken')\n",
    "        \n",
    "        if nextPageToken is None:\n",
    "            break\n",
    "\n",
    "# criar lista com Ids de cada vídeo\n",
    "ids_videos = list(map(lambda x: x['snippet']['resourceId']['videoId'], itens_playlists))\n",
    "nomes_videos = list(map(lambda x: x['snippet']['title'], itens_playlists))\n",
    "videos_playlist_id = list(map(lambda x: x['snippet']['playlistId'], itens_playlists))"
   ]
  },
  {
   "cell_type": "code",
   "execution_count": 13,
   "metadata": {
    "executionInfo": {
     "elapsed": 13,
     "status": "ok",
     "timestamp": 1676402637710,
     "user": {
      "displayName": "Gabriela Custódio",
      "userId": "12660031906492553036"
     },
     "user_tz": 180
    },
    "id": "jCwnA8Q-JR-n"
   },
   "outputs": [],
   "source": [
    "# criar dataframe com informações sobre vídeos e playlists\n",
    "\n",
    "infos_videos_playlist = list(zip(nomes_videos, ids_videos, videos_playlist_id))\n",
    "df_infos_videos_playlist = pd.DataFrame.from_records(infos_videos_playlist, columns=['titulo_video', 'id_video', 'id_playlist'])\n",
    "df_infos_videos_playlist_novo = df_infos_videos_playlist.merge(df_info_playlists, on='id_playlist', how='left')"
   ]
  },
  {
   "cell_type": "code",
   "execution_count": 14,
   "metadata": {
    "colab": {
     "base_uri": "https://localhost:8080/",
     "height": 0
    },
    "executionInfo": {
     "elapsed": 12,
     "status": "ok",
     "timestamp": 1676402637711,
     "user": {
      "displayName": "Gabriela Custódio",
      "userId": "12660031906492553036"
     },
     "user_tz": 180
    },
    "id": "zaJ9aVBJXhos",
    "outputId": "44cb9100-30fb-4f99-c1ba-52337737438f"
   },
   "outputs": [
    {
     "data": {
      "text/html": [
       "<div>\n",
       "<style scoped>\n",
       "    .dataframe tbody tr th:only-of-type {\n",
       "        vertical-align: middle;\n",
       "    }\n",
       "\n",
       "    .dataframe tbody tr th {\n",
       "        vertical-align: top;\n",
       "    }\n",
       "\n",
       "    .dataframe thead th {\n",
       "        text-align: right;\n",
       "    }\n",
       "</style>\n",
       "<table border=\"1\" class=\"dataframe\">\n",
       "  <thead>\n",
       "    <tr style=\"text-align: right;\">\n",
       "      <th></th>\n",
       "      <th>titulo_video</th>\n",
       "      <th>id_video</th>\n",
       "      <th>id_playlist</th>\n",
       "      <th>nome_playlist</th>\n",
       "    </tr>\n",
       "  </thead>\n",
       "  <tbody>\n",
       "    <tr>\n",
       "      <th>0</th>\n",
       "      <td>VEDA # 01 - MINHA CASA EM FORTAL</td>\n",
       "      <td>d616HI34WsI</td>\n",
       "      <td>PLypClbHDpCW0dYckCViQEEBj2ztjG545I</td>\n",
       "      <td>VEDA</td>\n",
       "    </tr>\n",
       "    <tr>\n",
       "      <th>1</th>\n",
       "      <td>VEDA # 02 - BASTIDORES E ESTREIA EM FORTAL</td>\n",
       "      <td>JXH31F0Rook</td>\n",
       "      <td>PLypClbHDpCW0dYckCViQEEBj2ztjG545I</td>\n",
       "      <td>VEDA</td>\n",
       "    </tr>\n",
       "    <tr>\n",
       "      <th>2</th>\n",
       "      <td>VEDA # 03 - MEU AP EM FORTALEZA, FUSCÃO PRETO</td>\n",
       "      <td>L4NsV3_R45A</td>\n",
       "      <td>PLypClbHDpCW0dYckCViQEEBj2ztjG545I</td>\n",
       "      <td>VEDA</td>\n",
       "    </tr>\n",
       "    <tr>\n",
       "      <th>3</th>\n",
       "      <td>VEDA # 04 - REGINA CHEGOU, PRÉVIAS DO LIL WHIND</td>\n",
       "      <td>z7nAQVbr5eY</td>\n",
       "      <td>PLypClbHDpCW0dYckCViQEEBj2ztjG545I</td>\n",
       "      <td>VEDA</td>\n",
       "    </tr>\n",
       "    <tr>\n",
       "      <th>4</th>\n",
       "      <td>VEDA # 05 - RACHA DO NATHANZIN</td>\n",
       "      <td>w3PFJrkkZl4</td>\n",
       "      <td>PLypClbHDpCW0dYckCViQEEBj2ztjG545I</td>\n",
       "      <td>VEDA</td>\n",
       "    </tr>\n",
       "  </tbody>\n",
       "</table>\n",
       "</div>"
      ],
      "text/plain": [
       "                                      titulo_video     id_video  \\\n",
       "0                 VEDA # 01 - MINHA CASA EM FORTAL  d616HI34WsI   \n",
       "1       VEDA # 02 - BASTIDORES E ESTREIA EM FORTAL  JXH31F0Rook   \n",
       "2    VEDA # 03 - MEU AP EM FORTALEZA, FUSCÃO PRETO  L4NsV3_R45A   \n",
       "3  VEDA # 04 - REGINA CHEGOU, PRÉVIAS DO LIL WHIND  z7nAQVbr5eY   \n",
       "4                   VEDA # 05 - RACHA DO NATHANZIN  w3PFJrkkZl4   \n",
       "\n",
       "                          id_playlist nome_playlist  \n",
       "0  PLypClbHDpCW0dYckCViQEEBj2ztjG545I          VEDA  \n",
       "1  PLypClbHDpCW0dYckCViQEEBj2ztjG545I          VEDA  \n",
       "2  PLypClbHDpCW0dYckCViQEEBj2ztjG545I          VEDA  \n",
       "3  PLypClbHDpCW0dYckCViQEEBj2ztjG545I          VEDA  \n",
       "4  PLypClbHDpCW0dYckCViQEEBj2ztjG545I          VEDA  "
      ]
     },
     "execution_count": 14,
     "metadata": {},
     "output_type": "execute_result"
    }
   ],
   "source": [
    "df_infos_videos_playlist_novo.head()"
   ]
  },
  {
   "cell_type": "code",
   "execution_count": 15,
   "metadata": {
    "executionInfo": {
     "elapsed": 2401,
     "status": "ok",
     "timestamp": 1676402640102,
     "user": {
      "displayName": "Gabriela Custódio",
      "userId": "12660031906492553036"
     },
     "user_tz": 180
    },
    "id": "86XIKvKyyGGc"
   },
   "outputs": [],
   "source": [
    "# criar lista com dados sobre cada vídeo\n",
    "\n",
    "lista_dados_video = []\n",
    "\n",
    "for id_video in ids_videos:\n",
    "    dados_video_whindersson = youtube.videos().list(part=['snippet', 'statistics', 'player', 'recordingDetails'], id=id_video).execute()\n",
    "    lista_dados_video += dados_video_whindersson['items']\n",
    "\n",
    "dados_video_whindersson = []\n",
    "\n",
    "for dados_video in lista_dados_video:\n",
    "    for k, v in dados_video.items():\n",
    "        titulo_video = dados_video['snippet']['title']\n",
    "        id_video = dados_video['id']\n",
    "        data_publicacao = dados_video['snippet']['publishedAt']\n",
    "        imagem = dados_video['snippet']['thumbnails']['medium']['url']\n",
    "        for k, v in dados_video['player'].items():\n",
    "            player_video = dados_video['player']['embedHtml']\n",
    "            for k, v in dados_video['statistics'].items():\n",
    "                estatisticas = dados_video['statistics']\n",
    "                if k == 'commentCount':\n",
    "                    comentarios = dados_video['statistics']['commentCount']\n",
    "                elif k == 'favoriteCount':\n",
    "                    favoritos = dados_video['statistics']['favoriteCount']\n",
    "                elif k == 'likeCount':\n",
    "                    likes = dados_video['statistics']['likeCount']\n",
    "                elif k == 'viewCount':\n",
    "                    visualizacoes = dados_video['statistics']['viewCount']\n",
    "    dados_video_whindersson.append((titulo_video, id_video, data_publicacao, imagem, player_video, estatisticas, comentarios, favoritos, likes, visualizacoes))"
   ]
  },
  {
   "cell_type": "code",
   "execution_count": 16,
   "metadata": {
    "executionInfo": {
     "elapsed": 23,
     "status": "ok",
     "timestamp": 1676402640104,
     "user": {
      "displayName": "Gabriela Custódio",
      "userId": "12660031906492553036"
     },
     "user_tz": 180
    },
    "id": "bakwu6kbZ82Z"
   },
   "outputs": [],
   "source": [
    "# dataframe com dados dos vídeos do canal de Lil Whind\n",
    "\n",
    "df_videos = pd.DataFrame.from_records(dados_video_whindersson, columns=['titulo_video', 'id_video', 'data_publicacao', 'imagem', 'player_video', 'estatisticas', 'comentarios', 'favoritos', 'likes', 'visualizacoes'])\n",
    "df_videos_novo = df_videos.merge(df_infos_videos_playlist_novo, on=['titulo_video', 'id_video'], how='left')"
   ]
  },
  {
   "cell_type": "code",
   "execution_count": 17,
   "metadata": {
    "executionInfo": {
     "elapsed": 23,
     "status": "ok",
     "timestamp": 1676402640105,
     "user": {
      "displayName": "Gabriela Custódio",
      "userId": "12660031906492553036"
     },
     "user_tz": 180
    },
    "id": "XTvC86RWu7AZ"
   },
   "outputs": [],
   "source": [
    "df_videos_novo.to_csv(path + 'whindersson_videos.csv', encoding='utf-8', index=False)"
   ]
  },
  {
   "cell_type": "code",
   "execution_count": 18,
   "metadata": {
    "colab": {
     "base_uri": "https://localhost:8080/",
     "height": 0
    },
    "executionInfo": {
     "elapsed": 23,
     "status": "ok",
     "timestamp": 1676402640105,
     "user": {
      "displayName": "Gabriela Custódio",
      "userId": "12660031906492553036"
     },
     "user_tz": 180
    },
    "id": "X-_wtc9DGoTL",
    "outputId": "a2e7b119-03e3-43d7-da6e-ff0099741579"
   },
   "outputs": [
    {
     "data": {
      "text/html": [
       "<div>\n",
       "<style scoped>\n",
       "    .dataframe tbody tr th:only-of-type {\n",
       "        vertical-align: middle;\n",
       "    }\n",
       "\n",
       "    .dataframe tbody tr th {\n",
       "        vertical-align: top;\n",
       "    }\n",
       "\n",
       "    .dataframe thead th {\n",
       "        text-align: right;\n",
       "    }\n",
       "</style>\n",
       "<table border=\"1\" class=\"dataframe\">\n",
       "  <thead>\n",
       "    <tr style=\"text-align: right;\">\n",
       "      <th></th>\n",
       "      <th>titulo_video</th>\n",
       "      <th>id_video</th>\n",
       "      <th>data_publicacao</th>\n",
       "      <th>imagem</th>\n",
       "      <th>player_video</th>\n",
       "      <th>estatisticas</th>\n",
       "      <th>comentarios</th>\n",
       "      <th>favoritos</th>\n",
       "      <th>likes</th>\n",
       "      <th>visualizacoes</th>\n",
       "      <th>id_playlist</th>\n",
       "      <th>nome_playlist</th>\n",
       "    </tr>\n",
       "  </thead>\n",
       "  <tbody>\n",
       "    <tr>\n",
       "      <th>0</th>\n",
       "      <td>VEDA # 01 - MINHA CASA EM FORTAL</td>\n",
       "      <td>d616HI34WsI</td>\n",
       "      <td>2022-04-02T06:52:05Z</td>\n",
       "      <td>https://i.ytimg.com/vi/d616HI34WsI/mqdefault.jpg</td>\n",
       "      <td>&lt;iframe width=\"480\" height=\"270\" src=\"//www.yo...</td>\n",
       "      <td>{'viewCount': '1980986', 'likeCount': '354357'...</td>\n",
       "      <td>9094</td>\n",
       "      <td>0</td>\n",
       "      <td>354357</td>\n",
       "      <td>1980986</td>\n",
       "      <td>PLypClbHDpCW0dYckCViQEEBj2ztjG545I</td>\n",
       "      <td>VEDA</td>\n",
       "    </tr>\n",
       "    <tr>\n",
       "      <th>1</th>\n",
       "      <td>VEDA # 02 - BASTIDORES E ESTREIA EM FORTAL</td>\n",
       "      <td>JXH31F0Rook</td>\n",
       "      <td>2022-04-03T05:52:56Z</td>\n",
       "      <td>https://i.ytimg.com/vi/JXH31F0Rook/mqdefault.jpg</td>\n",
       "      <td>&lt;iframe width=\"480\" height=\"270\" src=\"//www.yo...</td>\n",
       "      <td>{'viewCount': '586945', 'likeCount': '116395',...</td>\n",
       "      <td>3219</td>\n",
       "      <td>0</td>\n",
       "      <td>116395</td>\n",
       "      <td>586945</td>\n",
       "      <td>PLypClbHDpCW0dYckCViQEEBj2ztjG545I</td>\n",
       "      <td>VEDA</td>\n",
       "    </tr>\n",
       "  </tbody>\n",
       "</table>\n",
       "</div>"
      ],
      "text/plain": [
       "                                 titulo_video     id_video  \\\n",
       "0            VEDA # 01 - MINHA CASA EM FORTAL  d616HI34WsI   \n",
       "1  VEDA # 02 - BASTIDORES E ESTREIA EM FORTAL  JXH31F0Rook   \n",
       "\n",
       "        data_publicacao                                            imagem  \\\n",
       "0  2022-04-02T06:52:05Z  https://i.ytimg.com/vi/d616HI34WsI/mqdefault.jpg   \n",
       "1  2022-04-03T05:52:56Z  https://i.ytimg.com/vi/JXH31F0Rook/mqdefault.jpg   \n",
       "\n",
       "                                        player_video  \\\n",
       "0  <iframe width=\"480\" height=\"270\" src=\"//www.yo...   \n",
       "1  <iframe width=\"480\" height=\"270\" src=\"//www.yo...   \n",
       "\n",
       "                                        estatisticas comentarios favoritos  \\\n",
       "0  {'viewCount': '1980986', 'likeCount': '354357'...        9094         0   \n",
       "1  {'viewCount': '586945', 'likeCount': '116395',...        3219         0   \n",
       "\n",
       "    likes visualizacoes                         id_playlist nome_playlist  \n",
       "0  354357       1980986  PLypClbHDpCW0dYckCViQEEBj2ztjG545I          VEDA  \n",
       "1  116395        586945  PLypClbHDpCW0dYckCViQEEBj2ztjG545I          VEDA  "
      ]
     },
     "execution_count": 18,
     "metadata": {},
     "output_type": "execute_result"
    }
   ],
   "source": [
    "df_videos_novo.head(2)"
   ]
  },
  {
   "cell_type": "markdown",
   "metadata": {
    "id": "2EuYUS8t8blo"
   },
   "source": [
    "### 2.3 Informações sobre comentários, likes e visualizações <a name=\"Analise-Whindersson\"></a>"
   ]
  },
  {
   "cell_type": "code",
   "execution_count": 19,
   "metadata": {
    "executionInfo": {
     "elapsed": 22,
     "status": "ok",
     "timestamp": 1676402640106,
     "user": {
      "displayName": "Gabriela Custódio",
      "userId": "12660031906492553036"
     },
     "user_tz": 180
    },
    "id": "7xJFnk4Ih4Yv"
   },
   "outputs": [],
   "source": [
    "df_videos_novo['comentarios'] = df_videos_novo['comentarios'].astype(int)\n",
    "df_videos_novo['likes'] = df_videos_novo['likes'].astype(int)\n",
    "df_videos_novo['visualizacoes'] = df_videos_novo['visualizacoes'].astype(int)"
   ]
  },
  {
   "cell_type": "code",
   "execution_count": 20,
   "metadata": {
    "executionInfo": {
     "elapsed": 22,
     "status": "ok",
     "timestamp": 1676402640107,
     "user": {
      "displayName": "Gabriela Custódio",
      "userId": "12660031906492553036"
     },
     "user_tz": 180
    },
    "id": "waXoFr9f-g14"
   },
   "outputs": [],
   "source": [
    "df_videos_sem_duplicacao = df_videos_novo.drop_duplicates(subset='id_video')"
   ]
  },
  {
   "cell_type": "code",
   "execution_count": 21,
   "metadata": {
    "executionInfo": {
     "elapsed": 23,
     "status": "ok",
     "timestamp": 1676402640108,
     "user": {
      "displayName": "Gabriela Custódio",
      "userId": "12660031906492553036"
     },
     "user_tz": 180
    },
    "id": "JtzLeAIZ-lSH"
   },
   "outputs": [],
   "source": [
    "df_videos_sem_duplicacao['publicacao'] = df_videos_sem_duplicacao['data_publicacao'].str.slice(start=0, stop=10)\n",
    "df_videos_sem_duplicacao['publicacao'] = pd.to_datetime(df_videos_sem_duplicacao['publicacao'], format='%Y-%m-%d')\n",
    "df_videos_sem_duplicacao['ano_publicacao'] = df_videos_sem_duplicacao['publicacao'].dt.year"
   ]
  },
  {
   "cell_type": "code",
   "execution_count": 22,
   "metadata": {
    "colab": {
     "base_uri": "https://localhost:8080/",
     "height": 243
    },
    "executionInfo": {
     "elapsed": 23,
     "status": "ok",
     "timestamp": 1676402640109,
     "user": {
      "displayName": "Gabriela Custódio",
      "userId": "12660031906492553036"
     },
     "user_tz": 180
    },
    "id": "Cce5-EU9b4j_",
    "outputId": "c473f848-3d12-4004-83bb-1237b55fde28"
   },
   "outputs": [
    {
     "data": {
      "text/html": [
       "<div>\n",
       "<style scoped>\n",
       "    .dataframe tbody tr th:only-of-type {\n",
       "        vertical-align: middle;\n",
       "    }\n",
       "\n",
       "    .dataframe tbody tr th {\n",
       "        vertical-align: top;\n",
       "    }\n",
       "\n",
       "    .dataframe thead th {\n",
       "        text-align: right;\n",
       "    }\n",
       "</style>\n",
       "<table border=\"1\" class=\"dataframe\">\n",
       "  <thead>\n",
       "    <tr style=\"text-align: right;\">\n",
       "      <th></th>\n",
       "      <th>titulo_video</th>\n",
       "      <th>id_video</th>\n",
       "      <th>data_publicacao</th>\n",
       "      <th>imagem</th>\n",
       "      <th>player_video</th>\n",
       "      <th>estatisticas</th>\n",
       "      <th>comentarios</th>\n",
       "      <th>favoritos</th>\n",
       "      <th>likes</th>\n",
       "      <th>visualizacoes</th>\n",
       "      <th>id_playlist</th>\n",
       "      <th>nome_playlist</th>\n",
       "      <th>publicacao</th>\n",
       "      <th>ano_publicacao</th>\n",
       "    </tr>\n",
       "  </thead>\n",
       "  <tbody>\n",
       "    <tr>\n",
       "      <th>0</th>\n",
       "      <td>VEDA # 01 - MINHA CASA EM FORTAL</td>\n",
       "      <td>d616HI34WsI</td>\n",
       "      <td>2022-04-02T06:52:05Z</td>\n",
       "      <td>https://i.ytimg.com/vi/d616HI34WsI/mqdefault.jpg</td>\n",
       "      <td>&lt;iframe width=\"480\" height=\"270\" src=\"//www.yo...</td>\n",
       "      <td>{'viewCount': '1980986', 'likeCount': '354357'...</td>\n",
       "      <td>9094</td>\n",
       "      <td>0</td>\n",
       "      <td>354357</td>\n",
       "      <td>1980986</td>\n",
       "      <td>PLypClbHDpCW0dYckCViQEEBj2ztjG545I</td>\n",
       "      <td>VEDA</td>\n",
       "      <td>2022-04-02</td>\n",
       "      <td>2022</td>\n",
       "    </tr>\n",
       "    <tr>\n",
       "      <th>1</th>\n",
       "      <td>VEDA # 02 - BASTIDORES E ESTREIA EM FORTAL</td>\n",
       "      <td>JXH31F0Rook</td>\n",
       "      <td>2022-04-03T05:52:56Z</td>\n",
       "      <td>https://i.ytimg.com/vi/JXH31F0Rook/mqdefault.jpg</td>\n",
       "      <td>&lt;iframe width=\"480\" height=\"270\" src=\"//www.yo...</td>\n",
       "      <td>{'viewCount': '586945', 'likeCount': '116395',...</td>\n",
       "      <td>3219</td>\n",
       "      <td>0</td>\n",
       "      <td>116395</td>\n",
       "      <td>586945</td>\n",
       "      <td>PLypClbHDpCW0dYckCViQEEBj2ztjG545I</td>\n",
       "      <td>VEDA</td>\n",
       "      <td>2022-04-03</td>\n",
       "      <td>2022</td>\n",
       "    </tr>\n",
       "  </tbody>\n",
       "</table>\n",
       "</div>"
      ],
      "text/plain": [
       "                                 titulo_video     id_video  \\\n",
       "0            VEDA # 01 - MINHA CASA EM FORTAL  d616HI34WsI   \n",
       "1  VEDA # 02 - BASTIDORES E ESTREIA EM FORTAL  JXH31F0Rook   \n",
       "\n",
       "        data_publicacao                                            imagem  \\\n",
       "0  2022-04-02T06:52:05Z  https://i.ytimg.com/vi/d616HI34WsI/mqdefault.jpg   \n",
       "1  2022-04-03T05:52:56Z  https://i.ytimg.com/vi/JXH31F0Rook/mqdefault.jpg   \n",
       "\n",
       "                                        player_video  \\\n",
       "0  <iframe width=\"480\" height=\"270\" src=\"//www.yo...   \n",
       "1  <iframe width=\"480\" height=\"270\" src=\"//www.yo...   \n",
       "\n",
       "                                        estatisticas  comentarios favoritos  \\\n",
       "0  {'viewCount': '1980986', 'likeCount': '354357'...         9094         0   \n",
       "1  {'viewCount': '586945', 'likeCount': '116395',...         3219         0   \n",
       "\n",
       "    likes  visualizacoes                         id_playlist nome_playlist  \\\n",
       "0  354357        1980986  PLypClbHDpCW0dYckCViQEEBj2ztjG545I          VEDA   \n",
       "1  116395         586945  PLypClbHDpCW0dYckCViQEEBj2ztjG545I          VEDA   \n",
       "\n",
       "  publicacao  ano_publicacao  \n",
       "0 2022-04-02            2022  \n",
       "1 2022-04-03            2022  "
      ]
     },
     "execution_count": 22,
     "metadata": {},
     "output_type": "execute_result"
    }
   ],
   "source": [
    "df_videos_sem_duplicacao.head(2)"
   ]
  },
  {
   "cell_type": "code",
   "execution_count": 23,
   "metadata": {
    "executionInfo": {
     "elapsed": 23,
     "status": "ok",
     "timestamp": 1676402640110,
     "user": {
      "displayName": "Gabriela Custódio",
      "userId": "12660031906492553036"
     },
     "user_tz": 180
    },
    "id": "VUisTYr7_JxK"
   },
   "outputs": [],
   "source": [
    "# TOP 10 - vídeos com mais likes\n",
    "top_10_likes = df_videos_sem_duplicacao.sort_values(by='likes', ascending=False)\n",
    "top_10_likes = top_10_likes.head(10)\n",
    "df_top_10_likes = top_10_likes[['titulo_video', 'id_video', 'player_video', 'likes']]\n",
    "df_top_10_likes = df_top_10_likes.rename(columns={'likes':'Likes'})\n",
    "df_top_10_likes_tidy = pd.melt(df_top_10_likes, id_vars=['titulo_video', 'id_video', 'player_video'], value_vars='likes').rename(columns={'titulo_video': 'Vídeo', 'player_video': 'Assista', 'variable': 'Estatística', 'value': 'Quantidade'})"
   ]
  },
  {
   "cell_type": "code",
   "execution_count": 24,
   "metadata": {
    "executionInfo": {
     "elapsed": 3283,
     "status": "ok",
     "timestamp": 1676402643371,
     "user": {
      "displayName": "Gabriela Custódio",
      "userId": "12660031906492553036"
     },
     "user_tz": 180
    },
    "id": "87QodIz080RT"
   },
   "outputs": [],
   "source": [
    "df_top_10_likes_tidy.to_csv(path + 'whindersson_top_10_likes.csv', index=False)"
   ]
  },
  {
   "cell_type": "code",
   "execution_count": 25,
   "metadata": {
    "executionInfo": {
     "elapsed": 10,
     "status": "ok",
     "timestamp": 1676402643372,
     "user": {
      "displayName": "Gabriela Custódio",
      "userId": "12660031906492553036"
     },
     "user_tz": 180
    },
    "id": "0pXP-tC9gh5U"
   },
   "outputs": [],
   "source": [
    "# TOP 10 - vídeos com mais visualizações\n",
    "top_10_visualizacoes = df_videos_sem_duplicacao.sort_values(by='visualizacoes', ascending=False).head(10)\n",
    "top_10_visualizacoes = top_10_visualizacoes[['titulo_video', 'id_video', 'imagem', 'player_video', 'visualizacoes','publicacao', 'ano_publicacao']]\n",
    "top_10_visualizacoes = top_10_visualizacoes.rename(columns={'visualizacoes':'Visualizações'})\n",
    "df_top_10_visualizacoes_tidy = pd.melt(top_10_visualizacoes, id_vars=['titulo_video', 'id_video', 'player_video'], value_vars='Visualizações').rename(columns={'titulo_video': 'Vídeo', 'player_video': 'Assista', 'variable': 'Estatística', 'value': 'Quantidade'})"
   ]
  },
  {
   "cell_type": "code",
   "execution_count": 26,
   "metadata": {
    "executionInfo": {
     "elapsed": 295,
     "status": "ok",
     "timestamp": 1676402643660,
     "user": {
      "displayName": "Gabriela Custódio",
      "userId": "12660031906492553036"
     },
     "user_tz": 180
    },
    "id": "B5YPPxDp868h"
   },
   "outputs": [],
   "source": [
    "df_top_10_visualizacoes_tidy.to_csv(path + 'whindersson_top_10_visualizacoes.csv', index=False)"
   ]
  },
  {
   "cell_type": "code",
   "execution_count": 27,
   "metadata": {
    "executionInfo": {
     "elapsed": 282,
     "status": "ok",
     "timestamp": 1676402643939,
     "user": {
      "displayName": "Gabriela Custódio",
      "userId": "12660031906492553036"
     },
     "user_tz": 180
    },
    "id": "XbET883tiMg8"
   },
   "outputs": [],
   "source": [
    "# TOP 10 - vídeos com mais comentários\n",
    "top_10_comentarios = df_videos_sem_duplicacao.sort_values(by='comentarios', ascending=False)\n",
    "df_top_10_comentarios = top_10_comentarios.head(10)\n",
    "df_top_10_comentarios = df_top_10_comentarios[['titulo_video', 'id_video', 'imagem', 'player_video', 'comentarios','publicacao', 'ano_publicacao']]\n",
    "df_top_10_comentarios = df_top_10_comentarios.rename(columns={'comentarios':'Comentários'})\n",
    "df_top_10_comentarios_tidy = pd.melt(df_top_10_comentarios, id_vars=['titulo_video', 'id_video', 'player_video'], value_vars='Comentários').rename(columns={'titulo_video': 'Vídeo', 'player_video': 'Assista', 'variable': 'Estatística', 'value': 'Quantidade'})"
   ]
  },
  {
   "cell_type": "code",
   "execution_count": 28,
   "metadata": {
    "executionInfo": {
     "elapsed": 252,
     "status": "ok",
     "timestamp": 1676402644186,
     "user": {
      "displayName": "Gabriela Custódio",
      "userId": "12660031906492553036"
     },
     "user_tz": 180
    },
    "id": "Z1pVVkkC89nI"
   },
   "outputs": [],
   "source": [
    "df_top_10_comentarios_tidy.to_csv(path + 'whindersson_top_10_comentarios.csv', index=False)"
   ]
  },
  {
   "cell_type": "markdown",
   "metadata": {
    "id": "qKYTfvDuJEH6"
   },
   "source": [
    "Concatenar os três dataframes de top 10 em formato tidy"
   ]
  },
  {
   "cell_type": "code",
   "execution_count": 29,
   "metadata": {
    "executionInfo": {
     "elapsed": 374,
     "status": "ok",
     "timestamp": 1676402644557,
     "user": {
      "displayName": "Gabriela Custódio",
      "userId": "12660031906492553036"
     },
     "user_tz": 180
    },
    "id": "hg9kCARsIasR"
   },
   "outputs": [],
   "source": [
    "df_top_10_total = pd.concat([df_top_10_likes_tidy, df_top_10_visualizacoes_tidy, df_top_10_comentarios_tidy])\n",
    "df_top_10_total = df_top_10_total[['Vídeo', 'id_video', 'Assista', 'Estatística', 'Quantidade']]"
   ]
  },
  {
   "cell_type": "code",
   "execution_count": 30,
   "metadata": {
    "executionInfo": {
     "elapsed": 373,
     "status": "ok",
     "timestamp": 1676402644926,
     "user": {
      "displayName": "Gabriela Custódio",
      "userId": "12660031906492553036"
     },
     "user_tz": 180
    },
    "id": "aEn54CWYJ0i4"
   },
   "outputs": [],
   "source": [
    "df_top_10_total.to_csv(path + 'whindersson_top_10_total.csv', index=False)"
   ]
  },
  {
   "cell_type": "markdown",
   "metadata": {
    "id": "Php992lXidRJ"
   },
   "source": [
    "Estatísticas por ano"
   ]
  },
  {
   "cell_type": "code",
   "execution_count": 31,
   "metadata": {
    "executionInfo": {
     "elapsed": 6,
     "status": "ok",
     "timestamp": 1676402644927,
     "user": {
      "displayName": "Gabriela Custódio",
      "userId": "12660031906492553036"
     },
     "user_tz": 180
    },
    "id": "yovALPKCCRpN"
   },
   "outputs": [],
   "source": [
    "estatisticas_por_ano = df_videos_sem_duplicacao[['ano_publicacao', 'comentarios', 'likes', 'visualizacoes']].groupby(by='ano_publicacao').sum().reset_index().rename(columns={'ano_publicacao': 'Ano de publicação', 'comentarios': 'Comentários', 'likes': 'Likes', 'visualizacoes': 'Visualizações'})\n",
    "df_estatisticas_por_ano = estatisticas_por_ano.melt(id_vars=['Ano de publicação'], value_vars=['Comentários', 'Likes', 'Visualizações']).rename(columns={'variable': 'Estatística', 'value': 'Quantidade'})"
   ]
  },
  {
   "cell_type": "code",
   "execution_count": 32,
   "metadata": {
    "executionInfo": {
     "elapsed": 375,
     "status": "ok",
     "timestamp": 1676402645296,
     "user": {
      "displayName": "Gabriela Custódio",
      "userId": "12660031906492553036"
     },
     "user_tz": 180
    },
    "id": "S7lHNta2t28X"
   },
   "outputs": [],
   "source": [
    "df_estatisticas_por_ano.to_csv(path + 'whindersson_estatisticas_por_ano_canal.csv', index=False)"
   ]
  },
  {
   "cell_type": "markdown",
   "metadata": {
    "id": "OuAde0WHX--b"
   },
   "source": [
    "## 3. Lil Whind <a name=\"Lil-Whind\"></a>"
   ]
  },
  {
   "cell_type": "markdown",
   "metadata": {
    "id": "hl7jnBDuYF8M"
   },
   "source": [
    "### 3.1 Estatísticas do canal <a name=\"Estatisticas-Lil\"></a>"
   ]
  },
  {
   "cell_type": "code",
   "execution_count": 33,
   "metadata": {
    "executionInfo": {
     "elapsed": 4,
     "status": "ok",
     "timestamp": 1676402650078,
     "user": {
      "displayName": "Gabriela Custódio",
      "userId": "12660031906492553036"
     },
     "user_tz": 180
    },
    "id": "OFe6hsTvYF8M"
   },
   "outputs": [],
   "source": [
    "# id do canal do Lil Whind\n",
    "\n",
    "channel_id_lil_whind = 'UCPGxg_uxXrheuHX6HrQ-OnA'"
   ]
  },
  {
   "cell_type": "code",
   "execution_count": 34,
   "metadata": {
    "executionInfo": {
     "elapsed": 3,
     "status": "ok",
     "timestamp": 1676402650327,
     "user": {
      "displayName": "Gabriela Custódio",
      "userId": "12660031906492553036"
     },
     "user_tz": 180
    },
    "id": "N05vw7u6YF8N"
   },
   "outputs": [],
   "source": [
    "# informações sobre canal\n",
    "\n",
    "canalLilWhind = youtube.channels().list(part=['snippet','statistics'], id=channel_id_lil_whind).execute()"
   ]
  },
  {
   "cell_type": "code",
   "execution_count": 35,
   "metadata": {
    "colab": {
     "base_uri": "https://localhost:8080/"
    },
    "executionInfo": {
     "elapsed": 10,
     "status": "ok",
     "timestamp": 1676402655658,
     "user": {
      "displayName": "Gabriela Custódio",
      "userId": "12660031906492553036"
     },
     "user_tz": 180
    },
    "id": "iJ4TTmAQYF8N",
    "outputId": "3b992d5c-7886-4c0b-f8af-dfbcb4016f35"
   },
   "outputs": [
    {
     "data": {
      "text/plain": [
       "{'kind': 'youtube#channelListResponse',\n",
       " 'etag': 'uPwRfhkEkesPwzHVW2JXl9N0pTU',\n",
       " 'pageInfo': {'totalResults': 1, 'resultsPerPage': 5},\n",
       " 'items': [{'kind': 'youtube#channel',\n",
       "   'etag': 'pufVgVq8MEUFNyFdekMPsk8g1-o',\n",
       "   'id': 'UCPGxg_uxXrheuHX6HrQ-OnA',\n",
       "   'snippet': {'title': 'Lil Whind',\n",
       "    'description': '*CANAL OFICIAL*\\n\\nLil’ Whind vem do Piauí para o mundo explodindo no TRAP. Musicalidade que não se prende, personalidade forte, batidas envolventes, intensas, loucas, sinestésicas, quânticas. \\nNos seus versos cabem entretenimento, cuscuz, alegrias, desilusões, mais cuscuz, sua evolução e a nova realidade que ele cria pra si.\\nLil whind tem os pés bem firmes e a mente onde bem entende, um choque da sua própria realidade na realidade de quem ousa segui-lo.\\nVocês estão de capacete?!',\n",
       "    'customUrl': '@lilwhindoficial',\n",
       "    'publishedAt': '2020-09-20T13:39:20.823254Z',\n",
       "    'thumbnails': {'default': {'url': 'https://yt3.ggpht.com/yE8HG6O76dGCtRNcl23dlvUDnYpV8om2zP8B1oKWQ4RYdX-qRN22S6vziA7BdNKFcINP1MY=s88-c-k-c0x00ffffff-no-nd-rj',\n",
       "      'width': 88,\n",
       "      'height': 88},\n",
       "     'medium': {'url': 'https://yt3.ggpht.com/yE8HG6O76dGCtRNcl23dlvUDnYpV8om2zP8B1oKWQ4RYdX-qRN22S6vziA7BdNKFcINP1MY=s240-c-k-c0x00ffffff-no-nd-rj',\n",
       "      'width': 240,\n",
       "      'height': 240},\n",
       "     'high': {'url': 'https://yt3.ggpht.com/yE8HG6O76dGCtRNcl23dlvUDnYpV8om2zP8B1oKWQ4RYdX-qRN22S6vziA7BdNKFcINP1MY=s800-c-k-c0x00ffffff-no-nd-rj',\n",
       "      'width': 800,\n",
       "      'height': 800}},\n",
       "    'defaultLanguage': 'pt',\n",
       "    'localized': {'title': 'Lil Whind',\n",
       "     'description': '*CANAL OFICIAL*\\n\\nLil’ Whind vem do Piauí para o mundo explodindo no TRAP. Musicalidade que não se prende, personalidade forte, batidas envolventes, intensas, loucas, sinestésicas, quânticas. \\nNos seus versos cabem entretenimento, cuscuz, alegrias, desilusões, mais cuscuz, sua evolução e a nova realidade que ele cria pra si.\\nLil whind tem os pés bem firmes e a mente onde bem entende, um choque da sua própria realidade na realidade de quem ousa segui-lo.\\nVocês estão de capacete?!'},\n",
       "    'country': 'BR'},\n",
       "   'statistics': {'viewCount': '67250397',\n",
       "    'subscriberCount': '631000',\n",
       "    'hiddenSubscriberCount': False,\n",
       "    'videoCount': '23'}}]}"
      ]
     },
     "execution_count": 35,
     "metadata": {},
     "output_type": "execute_result"
    }
   ],
   "source": [
    "canalLilWhind"
   ]
  },
  {
   "cell_type": "code",
   "execution_count": 36,
   "metadata": {
    "executionInfo": {
     "elapsed": 304,
     "status": "ok",
     "timestamp": 1676402668907,
     "user": {
      "displayName": "Gabriela Custódio",
      "userId": "12660031906492553036"
     },
     "user_tz": 180
    },
    "id": "L6-o5JmmYF8O"
   },
   "outputs": [],
   "source": [
    "estatisticas_canal_lil = pd.DataFrame.from_dict(canalLilWhind['items'][0]['statistics'], orient='index').reset_index().rename(columns={'index': 'estatísticas', 0: 'valores'})"
   ]
  },
  {
   "cell_type": "code",
   "execution_count": 37,
   "metadata": {
    "colab": {
     "base_uri": "https://localhost:8080/",
     "height": 175
    },
    "executionInfo": {
     "elapsed": 406,
     "status": "ok",
     "timestamp": 1676402673162,
     "user": {
      "displayName": "Gabriela Custódio",
      "userId": "12660031906492553036"
     },
     "user_tz": 180
    },
    "id": "fMD_mJfeYF8P",
    "outputId": "90fb2e30-64d2-4265-9cc0-79dfe03c48b3"
   },
   "outputs": [
    {
     "data": {
      "text/html": [
       "<div>\n",
       "<style scoped>\n",
       "    .dataframe tbody tr th:only-of-type {\n",
       "        vertical-align: middle;\n",
       "    }\n",
       "\n",
       "    .dataframe tbody tr th {\n",
       "        vertical-align: top;\n",
       "    }\n",
       "\n",
       "    .dataframe thead th {\n",
       "        text-align: right;\n",
       "    }\n",
       "</style>\n",
       "<table border=\"1\" class=\"dataframe\">\n",
       "  <thead>\n",
       "    <tr style=\"text-align: right;\">\n",
       "      <th></th>\n",
       "      <th>estatísticas</th>\n",
       "      <th>valores</th>\n",
       "    </tr>\n",
       "  </thead>\n",
       "  <tbody>\n",
       "    <tr>\n",
       "      <th>0</th>\n",
       "      <td>viewCount</td>\n",
       "      <td>67250397</td>\n",
       "    </tr>\n",
       "    <tr>\n",
       "      <th>1</th>\n",
       "      <td>subscriberCount</td>\n",
       "      <td>631000</td>\n",
       "    </tr>\n",
       "    <tr>\n",
       "      <th>2</th>\n",
       "      <td>hiddenSubscriberCount</td>\n",
       "      <td>False</td>\n",
       "    </tr>\n",
       "    <tr>\n",
       "      <th>3</th>\n",
       "      <td>videoCount</td>\n",
       "      <td>23</td>\n",
       "    </tr>\n",
       "  </tbody>\n",
       "</table>\n",
       "</div>"
      ],
      "text/plain": [
       "            estatísticas   valores\n",
       "0              viewCount  67250397\n",
       "1        subscriberCount    631000\n",
       "2  hiddenSubscriberCount     False\n",
       "3             videoCount        23"
      ]
     },
     "execution_count": 37,
     "metadata": {},
     "output_type": "execute_result"
    }
   ],
   "source": [
    "estatisticas_canal_lil"
   ]
  },
  {
   "cell_type": "markdown",
   "metadata": {
    "id": "fV1vzKllYF8P"
   },
   "source": [
    "### 3.2 Informações de playlists e vídeos <a name=\"Playlists-Lil\"></a>"
   ]
  },
  {
   "cell_type": "code",
   "execution_count": 38,
   "metadata": {
    "executionInfo": {
     "elapsed": 245,
     "status": "ok",
     "timestamp": 1676402732335,
     "user": {
      "displayName": "Gabriela Custódio",
      "userId": "12660031906492553036"
     },
     "user_tz": 180
    },
    "id": "RSSHkE5HYF8P"
   },
   "outputs": [],
   "source": [
    "# coletar informações das playlists do canal\n",
    "\n",
    "nextPageToken = None\n",
    "\n",
    "playlists_lil = []\n",
    "\n",
    "while True:\n",
    "    resultado = youtube.playlists().list(part=['snippet'], channelId=channel_id_lil_whind, pageToken=nextPageToken).execute()\n",
    "    \n",
    "    playlists_lil += resultado['items']\n",
    "    \n",
    "    nextPageToken = resultado.get('nextPageToken')\n",
    "    \n",
    "    if nextPageToken is None:\n",
    "        break\n",
    "\n",
    "# criar lista com os Ids das playlists\n",
    "\n",
    "ids_playlists_lil = list(map(lambda x: x['id'], playlists_lil))\n",
    "nome_playlists_lil = list(map(lambda x: x['snippet']['title'], playlists_lil))\n",
    "\n",
    "# criar dataframe com informações de id e nome das playlists\n",
    "info_playlists_lil = dict(zip(ids_playlists_lil, nome_playlists_lil))\n",
    "df_info_playlists_lil = pd.DataFrame.from_dict(info_playlists_lil, orient='index').reset_index().rename(columns={'index': 'id_playlist', 0:'nome_playlist'})"
   ]
  },
  {
   "cell_type": "code",
   "execution_count": 39,
   "metadata": {
    "colab": {
     "base_uri": "https://localhost:8080/",
     "height": 112
    },
    "executionInfo": {
     "elapsed": 657,
     "status": "ok",
     "timestamp": 1676403111246,
     "user": {
      "displayName": "Gabriela Custódio",
      "userId": "12660031906492553036"
     },
     "user_tz": 180
    },
    "id": "Sx4ZrA-BYF8Q",
    "outputId": "69c7ebda-d0c4-4aba-dcd4-1522ff0536e8"
   },
   "outputs": [
    {
     "data": {
      "text/html": [
       "<div>\n",
       "<style scoped>\n",
       "    .dataframe tbody tr th:only-of-type {\n",
       "        vertical-align: middle;\n",
       "    }\n",
       "\n",
       "    .dataframe tbody tr th {\n",
       "        vertical-align: top;\n",
       "    }\n",
       "\n",
       "    .dataframe thead th {\n",
       "        text-align: right;\n",
       "    }\n",
       "</style>\n",
       "<table border=\"1\" class=\"dataframe\">\n",
       "  <thead>\n",
       "    <tr style=\"text-align: right;\">\n",
       "      <th></th>\n",
       "      <th>id_playlist</th>\n",
       "      <th>nome_playlist</th>\n",
       "    </tr>\n",
       "  </thead>\n",
       "  <tbody>\n",
       "    <tr>\n",
       "      <th>0</th>\n",
       "      <td>PLIciEJ3HUZBUfcHpLyG46DQB4QHX7lrwc</td>\n",
       "      <td>PIAUÍ</td>\n",
       "    </tr>\n",
       "    <tr>\n",
       "      <th>1</th>\n",
       "      <td>PLIciEJ3HUZBXMCyNO04EETNf5QVdkIP8I</td>\n",
       "      <td>FRENTE &amp; VERSO</td>\n",
       "    </tr>\n",
       "  </tbody>\n",
       "</table>\n",
       "</div>"
      ],
      "text/plain": [
       "                          id_playlist   nome_playlist\n",
       "0  PLIciEJ3HUZBUfcHpLyG46DQB4QHX7lrwc           PIAUÍ\n",
       "1  PLIciEJ3HUZBXMCyNO04EETNf5QVdkIP8I  FRENTE & VERSO"
      ]
     },
     "execution_count": 39,
     "metadata": {},
     "output_type": "execute_result"
    }
   ],
   "source": [
    "df_info_playlists_lil"
   ]
  },
  {
   "cell_type": "code",
   "execution_count": 40,
   "metadata": {
    "executionInfo": {
     "elapsed": 1023,
     "status": "ok",
     "timestamp": 1676403223800,
     "user": {
      "displayName": "Gabriela Custódio",
      "userId": "12660031906492553036"
     },
     "user_tz": 180
    },
    "id": "1LarapBEYF8R"
   },
   "outputs": [],
   "source": [
    "# coletar informações dos vídeos das playlists\n",
    "\n",
    "nextPageToken = None\n",
    "\n",
    "itens_playlist_lil = []\n",
    "\n",
    "for playlist in ids_playlists_lil:\n",
    "    while True:\n",
    "        videos_playlists = youtube.playlistItems().list(part='snippet', playlistId=playlist, pageToken=nextPageToken).execute()\n",
    "        itens_playlist_lil += videos_playlists['items']\n",
    "        \n",
    "        nextPageToken = videos_playlists.get('nextPageToken')\n",
    "        \n",
    "        if nextPageToken is None:\n",
    "            break\n",
    "\n",
    "# criar lista com Ids de cada vídeo\n",
    "ids_videos_lil = list(map(lambda x: x['snippet']['resourceId']['videoId'], itens_playlist_lil))\n",
    "nomes_videos_lil = list(map(lambda x: x['snippet']['title'], itens_playlist_lil))\n",
    "videos_playlist_id_lil = list(map(lambda x: x['snippet']['playlistId'], itens_playlist_lil))"
   ]
  },
  {
   "cell_type": "code",
   "execution_count": 41,
   "metadata": {
    "executionInfo": {
     "elapsed": 298,
     "status": "ok",
     "timestamp": 1676403225036,
     "user": {
      "displayName": "Gabriela Custódio",
      "userId": "12660031906492553036"
     },
     "user_tz": 180
    },
    "id": "c3AJeCEwYF8R"
   },
   "outputs": [],
   "source": [
    "# criar dataframe com informações sobre vídeos e playlists\n",
    "\n",
    "infos_videos_playlist_lil = list(zip(nomes_videos_lil, ids_videos_lil, videos_playlist_id_lil))\n",
    "df_infos_videos_playlist_lil = pd.DataFrame.from_records(infos_videos_playlist_lil, columns=['titulo_video', 'id_video', 'id_playlist'])\n",
    "df_infos_videos_playlist_lil_novo = df_infos_videos_playlist_lil.merge(df_info_playlists_lil, on='id_playlist', how='left')"
   ]
  },
  {
   "cell_type": "code",
   "execution_count": 42,
   "metadata": {
    "colab": {
     "base_uri": "https://localhost:8080/",
     "height": 614
    },
    "executionInfo": {
     "elapsed": 9,
     "status": "ok",
     "timestamp": 1676403226336,
     "user": {
      "displayName": "Gabriela Custódio",
      "userId": "12660031906492553036"
     },
     "user_tz": 180
    },
    "id": "z5dbazj0YF8S",
    "outputId": "fe4dbcb5-019c-450d-e094-eda0995da477"
   },
   "outputs": [
    {
     "data": {
      "text/html": [
       "<div>\n",
       "<style scoped>\n",
       "    .dataframe tbody tr th:only-of-type {\n",
       "        vertical-align: middle;\n",
       "    }\n",
       "\n",
       "    .dataframe tbody tr th {\n",
       "        vertical-align: top;\n",
       "    }\n",
       "\n",
       "    .dataframe thead th {\n",
       "        text-align: right;\n",
       "    }\n",
       "</style>\n",
       "<table border=\"1\" class=\"dataframe\">\n",
       "  <thead>\n",
       "    <tr style=\"text-align: right;\">\n",
       "      <th></th>\n",
       "      <th>titulo_video</th>\n",
       "      <th>id_video</th>\n",
       "      <th>id_playlist</th>\n",
       "      <th>nome_playlist</th>\n",
       "    </tr>\n",
       "  </thead>\n",
       "  <tbody>\n",
       "    <tr>\n",
       "      <th>0</th>\n",
       "      <td>Lil Whind - Tempo</td>\n",
       "      <td>d_onQZuBd7c</td>\n",
       "      <td>PLIciEJ3HUZBUfcHpLyG46DQB4QHX7lrwc</td>\n",
       "      <td>PIAUÍ</td>\n",
       "    </tr>\n",
       "    <tr>\n",
       "      <th>1</th>\n",
       "      <td>Lil Whind - Caribe</td>\n",
       "      <td>YVRSqEWh20s</td>\n",
       "      <td>PLIciEJ3HUZBUfcHpLyG46DQB4QHX7lrwc</td>\n",
       "      <td>PIAUÍ</td>\n",
       "    </tr>\n",
       "    <tr>\n",
       "      <th>2</th>\n",
       "      <td>Lil Whind - Mãe</td>\n",
       "      <td>kdpGcyRteHg</td>\n",
       "      <td>PLIciEJ3HUZBUfcHpLyG46DQB4QHX7lrwc</td>\n",
       "      <td>PIAUÍ</td>\n",
       "    </tr>\n",
       "    <tr>\n",
       "      <th>3</th>\n",
       "      <td>Lil Whind - Cerrado</td>\n",
       "      <td>nyaw7FfSMTk</td>\n",
       "      <td>PLIciEJ3HUZBUfcHpLyG46DQB4QHX7lrwc</td>\n",
       "      <td>PIAUÍ</td>\n",
       "    </tr>\n",
       "    <tr>\n",
       "      <th>4</th>\n",
       "      <td>Lil Whind - Cuscuz</td>\n",
       "      <td>GqutEnlLX6o</td>\n",
       "      <td>PLIciEJ3HUZBUfcHpLyG46DQB4QHX7lrwc</td>\n",
       "      <td>PIAUÍ</td>\n",
       "    </tr>\n",
       "    <tr>\n",
       "      <th>5</th>\n",
       "      <td>Lil Whind - Calor do Carai (feat. Hungria Hip ...</td>\n",
       "      <td>lKJ3UYDKOl0</td>\n",
       "      <td>PLIciEJ3HUZBUfcHpLyG46DQB4QHX7lrwc</td>\n",
       "      <td>PIAUÍ</td>\n",
       "    </tr>\n",
       "    <tr>\n",
       "      <th>6</th>\n",
       "      <td>Lil Whind - Amor Quântico</td>\n",
       "      <td>KE7Do_JxDOY</td>\n",
       "      <td>PLIciEJ3HUZBUfcHpLyG46DQB4QHX7lrwc</td>\n",
       "      <td>PIAUÍ</td>\n",
       "    </tr>\n",
       "    <tr>\n",
       "      <th>7</th>\n",
       "      <td>Lil Whind - Cachorro Caramelo (feat. Matheus G...</td>\n",
       "      <td>qjVD3cX-Wqc</td>\n",
       "      <td>PLIciEJ3HUZBUfcHpLyG46DQB4QHX7lrwc</td>\n",
       "      <td>PIAUÍ</td>\n",
       "    </tr>\n",
       "    <tr>\n",
       "      <th>8</th>\n",
       "      <td>Lil Whind - Catinga de Bosta</td>\n",
       "      <td>cODPJ9E2tDM</td>\n",
       "      <td>PLIciEJ3HUZBUfcHpLyG46DQB4QHX7lrwc</td>\n",
       "      <td>PIAUÍ</td>\n",
       "    </tr>\n",
       "    <tr>\n",
       "      <th>9</th>\n",
       "      <td>Lil Whind - Trap do Gago</td>\n",
       "      <td>0kJV1Ctiubk</td>\n",
       "      <td>PLIciEJ3HUZBUfcHpLyG46DQB4QHX7lrwc</td>\n",
       "      <td>PIAUÍ</td>\n",
       "    </tr>\n",
       "    <tr>\n",
       "      <th>10</th>\n",
       "      <td>Lil Whind - Piauí (feat. Rapadura)</td>\n",
       "      <td>tNcMrdAeJeU</td>\n",
       "      <td>PLIciEJ3HUZBUfcHpLyG46DQB4QHX7lrwc</td>\n",
       "      <td>PIAUÍ</td>\n",
       "    </tr>\n",
       "    <tr>\n",
       "      <th>11</th>\n",
       "      <td>Lil Whind - Bê Jota</td>\n",
       "      <td>VSy9ou6PFFU</td>\n",
       "      <td>PLIciEJ3HUZBXMCyNO04EETNf5QVdkIP8I</td>\n",
       "      <td>FRENTE &amp; VERSO</td>\n",
       "    </tr>\n",
       "    <tr>\n",
       "      <th>12</th>\n",
       "      <td>Lil Whind - Fardo</td>\n",
       "      <td>UerAe13ksIM</td>\n",
       "      <td>PLIciEJ3HUZBXMCyNO04EETNf5QVdkIP8I</td>\n",
       "      <td>FRENTE &amp; VERSO</td>\n",
       "    </tr>\n",
       "    <tr>\n",
       "      <th>13</th>\n",
       "      <td>Lil Whind - Mó Tristeza</td>\n",
       "      <td>8wZO2XX0Z5U</td>\n",
       "      <td>PLIciEJ3HUZBXMCyNO04EETNf5QVdkIP8I</td>\n",
       "      <td>FRENTE &amp; VERSO</td>\n",
       "    </tr>\n",
       "    <tr>\n",
       "      <th>14</th>\n",
       "      <td>Lil Whind - Money</td>\n",
       "      <td>Vpoe8j0YcMM</td>\n",
       "      <td>PLIciEJ3HUZBXMCyNO04EETNf5QVdkIP8I</td>\n",
       "      <td>FRENTE &amp; VERSO</td>\n",
       "    </tr>\n",
       "    <tr>\n",
       "      <th>15</th>\n",
       "      <td>Lil Whind - Patamar</td>\n",
       "      <td>JhJv6YyBVfM</td>\n",
       "      <td>PLIciEJ3HUZBXMCyNO04EETNf5QVdkIP8I</td>\n",
       "      <td>FRENTE &amp; VERSO</td>\n",
       "    </tr>\n",
       "    <tr>\n",
       "      <th>16</th>\n",
       "      <td>Lil Whind - Rolê</td>\n",
       "      <td>4mj4EcxQRl8</td>\n",
       "      <td>PLIciEJ3HUZBXMCyNO04EETNf5QVdkIP8I</td>\n",
       "      <td>FRENTE &amp; VERSO</td>\n",
       "    </tr>\n",
       "    <tr>\n",
       "      <th>17</th>\n",
       "      <td>Lil Whind - Vida</td>\n",
       "      <td>w0hVlCaE9jk</td>\n",
       "      <td>PLIciEJ3HUZBXMCyNO04EETNf5QVdkIP8I</td>\n",
       "      <td>FRENTE &amp; VERSO</td>\n",
       "    </tr>\n",
       "  </tbody>\n",
       "</table>\n",
       "</div>"
      ],
      "text/plain": [
       "                                         titulo_video     id_video  \\\n",
       "0                                   Lil Whind - Tempo  d_onQZuBd7c   \n",
       "1                                  Lil Whind - Caribe  YVRSqEWh20s   \n",
       "2                                     Lil Whind - Mãe  kdpGcyRteHg   \n",
       "3                                 Lil Whind - Cerrado  nyaw7FfSMTk   \n",
       "4                                  Lil Whind - Cuscuz  GqutEnlLX6o   \n",
       "5   Lil Whind - Calor do Carai (feat. Hungria Hip ...  lKJ3UYDKOl0   \n",
       "6                           Lil Whind - Amor Quântico  KE7Do_JxDOY   \n",
       "7   Lil Whind - Cachorro Caramelo (feat. Matheus G...  qjVD3cX-Wqc   \n",
       "8                        Lil Whind - Catinga de Bosta  cODPJ9E2tDM   \n",
       "9                            Lil Whind - Trap do Gago  0kJV1Ctiubk   \n",
       "10                 Lil Whind - Piauí (feat. Rapadura)  tNcMrdAeJeU   \n",
       "11                                Lil Whind - Bê Jota  VSy9ou6PFFU   \n",
       "12                                  Lil Whind - Fardo  UerAe13ksIM   \n",
       "13                            Lil Whind - Mó Tristeza  8wZO2XX0Z5U   \n",
       "14                                  Lil Whind - Money  Vpoe8j0YcMM   \n",
       "15                                Lil Whind - Patamar  JhJv6YyBVfM   \n",
       "16                                   Lil Whind - Rolê  4mj4EcxQRl8   \n",
       "17                                   Lil Whind - Vida  w0hVlCaE9jk   \n",
       "\n",
       "                           id_playlist   nome_playlist  \n",
       "0   PLIciEJ3HUZBUfcHpLyG46DQB4QHX7lrwc           PIAUÍ  \n",
       "1   PLIciEJ3HUZBUfcHpLyG46DQB4QHX7lrwc           PIAUÍ  \n",
       "2   PLIciEJ3HUZBUfcHpLyG46DQB4QHX7lrwc           PIAUÍ  \n",
       "3   PLIciEJ3HUZBUfcHpLyG46DQB4QHX7lrwc           PIAUÍ  \n",
       "4   PLIciEJ3HUZBUfcHpLyG46DQB4QHX7lrwc           PIAUÍ  \n",
       "5   PLIciEJ3HUZBUfcHpLyG46DQB4QHX7lrwc           PIAUÍ  \n",
       "6   PLIciEJ3HUZBUfcHpLyG46DQB4QHX7lrwc           PIAUÍ  \n",
       "7   PLIciEJ3HUZBUfcHpLyG46DQB4QHX7lrwc           PIAUÍ  \n",
       "8   PLIciEJ3HUZBUfcHpLyG46DQB4QHX7lrwc           PIAUÍ  \n",
       "9   PLIciEJ3HUZBUfcHpLyG46DQB4QHX7lrwc           PIAUÍ  \n",
       "10  PLIciEJ3HUZBUfcHpLyG46DQB4QHX7lrwc           PIAUÍ  \n",
       "11  PLIciEJ3HUZBXMCyNO04EETNf5QVdkIP8I  FRENTE & VERSO  \n",
       "12  PLIciEJ3HUZBXMCyNO04EETNf5QVdkIP8I  FRENTE & VERSO  \n",
       "13  PLIciEJ3HUZBXMCyNO04EETNf5QVdkIP8I  FRENTE & VERSO  \n",
       "14  PLIciEJ3HUZBXMCyNO04EETNf5QVdkIP8I  FRENTE & VERSO  \n",
       "15  PLIciEJ3HUZBXMCyNO04EETNf5QVdkIP8I  FRENTE & VERSO  \n",
       "16  PLIciEJ3HUZBXMCyNO04EETNf5QVdkIP8I  FRENTE & VERSO  \n",
       "17  PLIciEJ3HUZBXMCyNO04EETNf5QVdkIP8I  FRENTE & VERSO  "
      ]
     },
     "execution_count": 42,
     "metadata": {},
     "output_type": "execute_result"
    }
   ],
   "source": [
    "df_infos_videos_playlist_lil_novo"
   ]
  },
  {
   "cell_type": "markdown",
   "metadata": {},
   "source": [
    "### 3.3  Informações sobre comentários, likes e visualizações <a name=\"Analise-Lil\"></a>"
   ]
  },
  {
   "cell_type": "code",
   "execution_count": 43,
   "metadata": {
    "executionInfo": {
     "elapsed": 568,
     "status": "ok",
     "timestamp": 1676403528282,
     "user": {
      "displayName": "Gabriela Custódio",
      "userId": "12660031906492553036"
     },
     "user_tz": 180
    },
    "id": "G6H_Dz5bYF8S"
   },
   "outputs": [],
   "source": [
    "# criar lista com dados sobre cada vídeo\n",
    "\n",
    "lista_dados_video_lil = []\n",
    "\n",
    "for id_video in ids_videos_lil:\n",
    "    dados_video_lil = youtube.videos().list(part=['snippet', 'statistics', 'player', 'recordingDetails'], id=id_video).execute()\n",
    "    lista_dados_video_lil += dados_video_lil['items']\n",
    "\n",
    "dados_video_lil_whind = []\n",
    "\n",
    "for dados_video in lista_dados_video_lil:\n",
    "    for k, v in dados_video.items():\n",
    "        titulo_video = dados_video['snippet']['title']\n",
    "        id_video = dados_video['id']\n",
    "        data_publicacao = dados_video['snippet']['publishedAt']\n",
    "        imagem = dados_video['snippet']['thumbnails']['medium']['url']\n",
    "        for k, v in dados_video['player'].items():\n",
    "            player_video = dados_video['player']['embedHtml']\n",
    "        for k, v in dados_video['statistics'].items():\n",
    "            estatisticas = dados_video['statistics']\n",
    "            if k == 'commentCount':\n",
    "                comentarios = dados_video['statistics']['commentCount']\n",
    "            elif k == 'favoriteCount':\n",
    "                favoritos = dados_video['statistics']['favoriteCount']\n",
    "            elif k == 'likeCount':\n",
    "                likes = dados_video['statistics']['likeCount']\n",
    "            elif k == 'viewCount':\n",
    "                visualizacoes = dados_video['statistics']['viewCount']\n",
    "    dados_video_lil_whind.append((titulo_video, id_video, data_publicacao, imagem, player_video, estatisticas, comentarios, favoritos, likes, visualizacoes))"
   ]
  },
  {
   "cell_type": "code",
   "execution_count": 44,
   "metadata": {
    "executionInfo": {
     "elapsed": 265,
     "status": "ok",
     "timestamp": 1676404014898,
     "user": {
      "displayName": "Gabriela Custódio",
      "userId": "12660031906492553036"
     },
     "user_tz": 180
    },
    "id": "GO3CheCjYF8T"
   },
   "outputs": [],
   "source": [
    "# dataframe com dados dos vídeos do canal de Lil Whind\n",
    "\n",
    "df_videos_lil = pd.DataFrame.from_records(dados_video_lil_whind, columns=['titulo_video', 'id_video', 'data_publicacao', 'imagem', 'player_video', 'estatisticas', 'comentarios', 'favoritos', 'likes', 'visualizacoes'])\n",
    "df_videos_lil_novo = df_videos_lil.merge(df_infos_videos_playlist_lil_novo, on=['titulo_video', 'id_video'], how='left')"
   ]
  },
  {
   "cell_type": "code",
   "execution_count": 45,
   "metadata": {
    "executionInfo": {
     "elapsed": 328,
     "status": "ok",
     "timestamp": 1676404022625,
     "user": {
      "displayName": "Gabriela Custódio",
      "userId": "12660031906492553036"
     },
     "user_tz": 180
    },
    "id": "KeTUgH-FcMMf"
   },
   "outputs": [],
   "source": [
    "df_videos_lil_novo['publicacao'] = pd.to_datetime(df_videos_lil_novo['data_publicacao']).dt.strftime('%d/%m/%Y')"
   ]
  },
  {
   "cell_type": "code",
   "execution_count": 46,
   "metadata": {
    "executionInfo": {
     "elapsed": 263,
     "status": "ok",
     "timestamp": 1676404070993,
     "user": {
      "displayName": "Gabriela Custódio",
      "userId": "12660031906492553036"
     },
     "user_tz": 180
    },
    "id": "IspqQk9CbRQQ"
   },
   "outputs": [],
   "source": [
    "newDF_videos_lil_novo = df_videos_lil_novo[['titulo_video', 'publicacao', 'imagem', 'player_video', 'comentarios', 'favoritos', 'likes', 'visualizacoes', 'nome_playlist']]"
   ]
  },
  {
   "cell_type": "code",
   "execution_count": 47,
   "metadata": {},
   "outputs": [],
   "source": [
    "def objToNum(df, col):\n",
    "    df[col] = df[col].astype(int)"
   ]
  },
  {
   "cell_type": "code",
   "execution_count": 48,
   "metadata": {},
   "outputs": [
    {
     "name": "stderr",
     "output_type": "stream",
     "text": [
      "C:\\Users\\red.gabrielacustodio\\AppData\\Local\\Temp\\ipykernel_9984\\1292008531.py:2: SettingWithCopyWarning: \n",
      "A value is trying to be set on a copy of a slice from a DataFrame.\n",
      "Try using .loc[row_indexer,col_indexer] = value instead\n",
      "\n",
      "See the caveats in the documentation: https://pandas.pydata.org/pandas-docs/stable/user_guide/indexing.html#returning-a-view-versus-a-copy\n",
      "  df[col] = df[col].astype(int)\n"
     ]
    }
   ],
   "source": [
    "objToNum(newDF_videos_lil_novo, 'comentarios')\n",
    "objToNum(newDF_videos_lil_novo, 'favoritos')\n",
    "objToNum(newDF_videos_lil_novo, 'likes')\n",
    "objToNum(newDF_videos_lil_novo, 'visualizacoes')"
   ]
  },
  {
   "cell_type": "code",
   "execution_count": 49,
   "metadata": {
    "executionInfo": {
     "elapsed": 313,
     "status": "ok",
     "timestamp": 1676404108497,
     "user": {
      "displayName": "Gabriela Custódio",
      "userId": "12660031906492553036"
     },
     "user_tz": 180
    },
    "id": "s4tROFVJceLO"
   },
   "outputs": [],
   "source": [
    "newDF_videos_lil_novo.to_csv(path + 'lil_whind_videos.csv', index=False)"
   ]
  },
  {
   "cell_type": "code",
   "execution_count": 50,
   "metadata": {},
   "outputs": [],
   "source": [
    "videos_lil_whind_sem_duplicacao = newDF_videos_lil_novo.drop_duplicates()"
   ]
  },
  {
   "cell_type": "code",
   "execution_count": 51,
   "metadata": {},
   "outputs": [
    {
     "name": "stdout",
     "output_type": "stream",
     "text": [
      "<class 'pandas.core.frame.DataFrame'>\n",
      "Int64Index: 18 entries, 0 to 17\n",
      "Data columns (total 9 columns):\n",
      " #   Column         Non-Null Count  Dtype \n",
      "---  ------         --------------  ----- \n",
      " 0   titulo_video   18 non-null     object\n",
      " 1   publicacao     18 non-null     object\n",
      " 2   imagem         18 non-null     object\n",
      " 3   player_video   18 non-null     object\n",
      " 4   comentarios    18 non-null     int32 \n",
      " 5   favoritos      18 non-null     int32 \n",
      " 6   likes          18 non-null     int32 \n",
      " 7   visualizacoes  18 non-null     int32 \n",
      " 8   nome_playlist  18 non-null     object\n",
      "dtypes: int32(4), object(5)\n",
      "memory usage: 1.1+ KB\n"
     ]
    }
   ],
   "source": [
    "videos_lil_whind_sem_duplicacao.info()"
   ]
  },
  {
   "cell_type": "code",
   "execution_count": 52,
   "metadata": {},
   "outputs": [],
   "source": [
    "# TOP 10 - vídeos com mais likes\n",
    "videos_lil_whind_sem_duplicacao = newDF_videos_lil_novo.drop_duplicates()\n",
    "lil_whind_top_10_likes = videos_lil_whind_sem_duplicacao.sort_values(by='likes', ascending=False).head(10)\n",
    "df_lil_whind_top_10_likes = lil_whind_top_10_likes[['titulo_video', 'player_video', 'likes']]\n",
    "df_lil_whind_top_10_likes = df_lil_whind_top_10_likes.rename(columns={'likes':'Likes', 'titulo_video': 'Título', 'player_video': 'Player'})"
   ]
  },
  {
   "cell_type": "code",
   "execution_count": 53,
   "metadata": {},
   "outputs": [
    {
     "data": {
      "text/html": [
       "<div>\n",
       "<style scoped>\n",
       "    .dataframe tbody tr th:only-of-type {\n",
       "        vertical-align: middle;\n",
       "    }\n",
       "\n",
       "    .dataframe tbody tr th {\n",
       "        vertical-align: top;\n",
       "    }\n",
       "\n",
       "    .dataframe thead th {\n",
       "        text-align: right;\n",
       "    }\n",
       "</style>\n",
       "<table border=\"1\" class=\"dataframe\">\n",
       "  <thead>\n",
       "    <tr style=\"text-align: right;\">\n",
       "      <th></th>\n",
       "      <th>Título</th>\n",
       "      <th>Player</th>\n",
       "      <th>Likes</th>\n",
       "    </tr>\n",
       "  </thead>\n",
       "  <tbody>\n",
       "    <tr>\n",
       "      <th>10</th>\n",
       "      <td>Lil Whind - Piauí (feat. Rapadura)</td>\n",
       "      <td>&lt;iframe width=\"480\" height=\"270\" src=\"//www.yo...</td>\n",
       "      <td>475888</td>\n",
       "    </tr>\n",
       "    <tr>\n",
       "      <th>9</th>\n",
       "      <td>Lil Whind - Trap do Gago</td>\n",
       "      <td>&lt;iframe width=\"480\" height=\"270\" src=\"//www.yo...</td>\n",
       "      <td>416454</td>\n",
       "    </tr>\n",
       "    <tr>\n",
       "      <th>5</th>\n",
       "      <td>Lil Whind - Calor do Carai (feat. Hungria Hip ...</td>\n",
       "      <td>&lt;iframe width=\"480\" height=\"270\" src=\"//www.yo...</td>\n",
       "      <td>232142</td>\n",
       "    </tr>\n",
       "    <tr>\n",
       "      <th>7</th>\n",
       "      <td>Lil Whind - Cachorro Caramelo (feat. Matheus G...</td>\n",
       "      <td>&lt;iframe width=\"480\" height=\"270\" src=\"//www.yo...</td>\n",
       "      <td>141741</td>\n",
       "    </tr>\n",
       "    <tr>\n",
       "      <th>2</th>\n",
       "      <td>Lil Whind - Mãe</td>\n",
       "      <td>&lt;iframe width=\"480\" height=\"270\" src=\"//www.yo...</td>\n",
       "      <td>132199</td>\n",
       "    </tr>\n",
       "    <tr>\n",
       "      <th>3</th>\n",
       "      <td>Lil Whind - Cerrado</td>\n",
       "      <td>&lt;iframe width=\"480\" height=\"270\" src=\"//www.yo...</td>\n",
       "      <td>112872</td>\n",
       "    </tr>\n",
       "    <tr>\n",
       "      <th>0</th>\n",
       "      <td>Lil Whind - Tempo</td>\n",
       "      <td>&lt;iframe width=\"480\" height=\"270\" src=\"//www.yo...</td>\n",
       "      <td>111726</td>\n",
       "    </tr>\n",
       "    <tr>\n",
       "      <th>4</th>\n",
       "      <td>Lil Whind - Cuscuz</td>\n",
       "      <td>&lt;iframe width=\"480\" height=\"270\" src=\"//www.yo...</td>\n",
       "      <td>91606</td>\n",
       "    </tr>\n",
       "    <tr>\n",
       "      <th>1</th>\n",
       "      <td>Lil Whind - Caribe</td>\n",
       "      <td>&lt;iframe width=\"480\" height=\"270\" src=\"//www.yo...</td>\n",
       "      <td>91320</td>\n",
       "    </tr>\n",
       "    <tr>\n",
       "      <th>6</th>\n",
       "      <td>Lil Whind - Amor Quântico</td>\n",
       "      <td>&lt;iframe width=\"480\" height=\"270\" src=\"//www.yo...</td>\n",
       "      <td>72659</td>\n",
       "    </tr>\n",
       "  </tbody>\n",
       "</table>\n",
       "</div>"
      ],
      "text/plain": [
       "                                               Título  \\\n",
       "10                 Lil Whind - Piauí (feat. Rapadura)   \n",
       "9                            Lil Whind - Trap do Gago   \n",
       "5   Lil Whind - Calor do Carai (feat. Hungria Hip ...   \n",
       "7   Lil Whind - Cachorro Caramelo (feat. Matheus G...   \n",
       "2                                     Lil Whind - Mãe   \n",
       "3                                 Lil Whind - Cerrado   \n",
       "0                                   Lil Whind - Tempo   \n",
       "4                                  Lil Whind - Cuscuz   \n",
       "1                                  Lil Whind - Caribe   \n",
       "6                           Lil Whind - Amor Quântico   \n",
       "\n",
       "                                               Player   Likes  \n",
       "10  <iframe width=\"480\" height=\"270\" src=\"//www.yo...  475888  \n",
       "9   <iframe width=\"480\" height=\"270\" src=\"//www.yo...  416454  \n",
       "5   <iframe width=\"480\" height=\"270\" src=\"//www.yo...  232142  \n",
       "7   <iframe width=\"480\" height=\"270\" src=\"//www.yo...  141741  \n",
       "2   <iframe width=\"480\" height=\"270\" src=\"//www.yo...  132199  \n",
       "3   <iframe width=\"480\" height=\"270\" src=\"//www.yo...  112872  \n",
       "0   <iframe width=\"480\" height=\"270\" src=\"//www.yo...  111726  \n",
       "4   <iframe width=\"480\" height=\"270\" src=\"//www.yo...   91606  \n",
       "1   <iframe width=\"480\" height=\"270\" src=\"//www.yo...   91320  \n",
       "6   <iframe width=\"480\" height=\"270\" src=\"//www.yo...   72659  "
      ]
     },
     "execution_count": 53,
     "metadata": {},
     "output_type": "execute_result"
    }
   ],
   "source": [
    "df_lil_whind_top_10_likes"
   ]
  },
  {
   "cell_type": "code",
   "execution_count": 54,
   "metadata": {},
   "outputs": [],
   "source": [
    "df_lil_whind_top_10_likes.to_csv(path + 'lil_whind_top10_likes.csv', index=False)"
   ]
  },
  {
   "cell_type": "code",
   "execution_count": 55,
   "metadata": {},
   "outputs": [],
   "source": [
    "# TOP 10 - vídeos com mais comentarios\n",
    "lil_whind_top_10_comentarios = videos_lil_whind_sem_duplicacao.sort_values(by='comentarios', ascending=False).head(10)\n",
    "df_lil_whind_top_10_comentario = lil_whind_top_10_comentarios[['titulo_video', 'player_video', 'comentarios']]\n",
    "df_lil_whind_top_10_comentario = df_lil_whind_top_10_comentario.rename(columns={'comentarios':'Comentários', 'titulo_video': 'Título', 'player_video': 'Player'})"
   ]
  },
  {
   "cell_type": "code",
   "execution_count": 56,
   "metadata": {},
   "outputs": [
    {
     "data": {
      "text/html": [
       "<div>\n",
       "<style scoped>\n",
       "    .dataframe tbody tr th:only-of-type {\n",
       "        vertical-align: middle;\n",
       "    }\n",
       "\n",
       "    .dataframe tbody tr th {\n",
       "        vertical-align: top;\n",
       "    }\n",
       "\n",
       "    .dataframe thead th {\n",
       "        text-align: right;\n",
       "    }\n",
       "</style>\n",
       "<table border=\"1\" class=\"dataframe\">\n",
       "  <thead>\n",
       "    <tr style=\"text-align: right;\">\n",
       "      <th></th>\n",
       "      <th>Título</th>\n",
       "      <th>Player</th>\n",
       "      <th>Comentários</th>\n",
       "    </tr>\n",
       "  </thead>\n",
       "  <tbody>\n",
       "    <tr>\n",
       "      <th>10</th>\n",
       "      <td>Lil Whind - Piauí (feat. Rapadura)</td>\n",
       "      <td>&lt;iframe width=\"480\" height=\"270\" src=\"//www.yo...</td>\n",
       "      <td>15000</td>\n",
       "    </tr>\n",
       "    <tr>\n",
       "      <th>9</th>\n",
       "      <td>Lil Whind - Trap do Gago</td>\n",
       "      <td>&lt;iframe width=\"480\" height=\"270\" src=\"//www.yo...</td>\n",
       "      <td>12380</td>\n",
       "    </tr>\n",
       "    <tr>\n",
       "      <th>5</th>\n",
       "      <td>Lil Whind - Calor do Carai (feat. Hungria Hip ...</td>\n",
       "      <td>&lt;iframe width=\"480\" height=\"270\" src=\"//www.yo...</td>\n",
       "      <td>5744</td>\n",
       "    </tr>\n",
       "    <tr>\n",
       "      <th>3</th>\n",
       "      <td>Lil Whind - Cerrado</td>\n",
       "      <td>&lt;iframe width=\"480\" height=\"270\" src=\"//www.yo...</td>\n",
       "      <td>3054</td>\n",
       "    </tr>\n",
       "    <tr>\n",
       "      <th>7</th>\n",
       "      <td>Lil Whind - Cachorro Caramelo (feat. Matheus G...</td>\n",
       "      <td>&lt;iframe width=\"480\" height=\"270\" src=\"//www.yo...</td>\n",
       "      <td>2941</td>\n",
       "    </tr>\n",
       "    <tr>\n",
       "      <th>2</th>\n",
       "      <td>Lil Whind - Mãe</td>\n",
       "      <td>&lt;iframe width=\"480\" height=\"270\" src=\"//www.yo...</td>\n",
       "      <td>2800</td>\n",
       "    </tr>\n",
       "    <tr>\n",
       "      <th>1</th>\n",
       "      <td>Lil Whind - Caribe</td>\n",
       "      <td>&lt;iframe width=\"480\" height=\"270\" src=\"//www.yo...</td>\n",
       "      <td>2437</td>\n",
       "    </tr>\n",
       "    <tr>\n",
       "      <th>0</th>\n",
       "      <td>Lil Whind - Tempo</td>\n",
       "      <td>&lt;iframe width=\"480\" height=\"270\" src=\"//www.yo...</td>\n",
       "      <td>2361</td>\n",
       "    </tr>\n",
       "    <tr>\n",
       "      <th>4</th>\n",
       "      <td>Lil Whind - Cuscuz</td>\n",
       "      <td>&lt;iframe width=\"480\" height=\"270\" src=\"//www.yo...</td>\n",
       "      <td>2209</td>\n",
       "    </tr>\n",
       "    <tr>\n",
       "      <th>8</th>\n",
       "      <td>Lil Whind - Catinga de Bosta</td>\n",
       "      <td>&lt;iframe width=\"480\" height=\"270\" src=\"//www.yo...</td>\n",
       "      <td>1713</td>\n",
       "    </tr>\n",
       "  </tbody>\n",
       "</table>\n",
       "</div>"
      ],
      "text/plain": [
       "                                               Título  \\\n",
       "10                 Lil Whind - Piauí (feat. Rapadura)   \n",
       "9                            Lil Whind - Trap do Gago   \n",
       "5   Lil Whind - Calor do Carai (feat. Hungria Hip ...   \n",
       "3                                 Lil Whind - Cerrado   \n",
       "7   Lil Whind - Cachorro Caramelo (feat. Matheus G...   \n",
       "2                                     Lil Whind - Mãe   \n",
       "1                                  Lil Whind - Caribe   \n",
       "0                                   Lil Whind - Tempo   \n",
       "4                                  Lil Whind - Cuscuz   \n",
       "8                        Lil Whind - Catinga de Bosta   \n",
       "\n",
       "                                               Player  Comentários  \n",
       "10  <iframe width=\"480\" height=\"270\" src=\"//www.yo...        15000  \n",
       "9   <iframe width=\"480\" height=\"270\" src=\"//www.yo...        12380  \n",
       "5   <iframe width=\"480\" height=\"270\" src=\"//www.yo...         5744  \n",
       "3   <iframe width=\"480\" height=\"270\" src=\"//www.yo...         3054  \n",
       "7   <iframe width=\"480\" height=\"270\" src=\"//www.yo...         2941  \n",
       "2   <iframe width=\"480\" height=\"270\" src=\"//www.yo...         2800  \n",
       "1   <iframe width=\"480\" height=\"270\" src=\"//www.yo...         2437  \n",
       "0   <iframe width=\"480\" height=\"270\" src=\"//www.yo...         2361  \n",
       "4   <iframe width=\"480\" height=\"270\" src=\"//www.yo...         2209  \n",
       "8   <iframe width=\"480\" height=\"270\" src=\"//www.yo...         1713  "
      ]
     },
     "execution_count": 56,
     "metadata": {},
     "output_type": "execute_result"
    }
   ],
   "source": [
    "df_lil_whind_top_10_comentario"
   ]
  },
  {
   "cell_type": "code",
   "execution_count": 57,
   "metadata": {},
   "outputs": [],
   "source": [
    "df_lil_whind_top_10_comentario.to_csv(path + 'lil_whind_top10_comentario.csv', index=False)"
   ]
  },
  {
   "cell_type": "code",
   "execution_count": 58,
   "metadata": {},
   "outputs": [],
   "source": [
    "# TOP 10 - vídeos com mais visualizações\n",
    "lil_whind_top_10_visualizacoes = videos_lil_whind_sem_duplicacao.sort_values(by='visualizacoes', ascending=False).head(10)\n",
    "df_lil_whind_top_10_visualizacoes = lil_whind_top_10_visualizacoes[['titulo_video', 'player_video', 'visualizacoes']]\n",
    "df_lil_whind_top_10_visualizacoes = df_lil_whind_top_10_visualizacoes.rename(columns={'visualizacoes':'Visualizações', 'titulo_video': 'Título', 'player_video': 'Player'})"
   ]
  },
  {
   "cell_type": "code",
   "execution_count": 59,
   "metadata": {},
   "outputs": [
    {
     "data": {
      "text/html": [
       "<div>\n",
       "<style scoped>\n",
       "    .dataframe tbody tr th:only-of-type {\n",
       "        vertical-align: middle;\n",
       "    }\n",
       "\n",
       "    .dataframe tbody tr th {\n",
       "        vertical-align: top;\n",
       "    }\n",
       "\n",
       "    .dataframe thead th {\n",
       "        text-align: right;\n",
       "    }\n",
       "</style>\n",
       "<table border=\"1\" class=\"dataframe\">\n",
       "  <thead>\n",
       "    <tr style=\"text-align: right;\">\n",
       "      <th></th>\n",
       "      <th>Título</th>\n",
       "      <th>Player</th>\n",
       "      <th>Visualizações</th>\n",
       "    </tr>\n",
       "  </thead>\n",
       "  <tbody>\n",
       "    <tr>\n",
       "      <th>10</th>\n",
       "      <td>Lil Whind - Piauí (feat. Rapadura)</td>\n",
       "      <td>&lt;iframe width=\"480\" height=\"270\" src=\"//www.yo...</td>\n",
       "      <td>17833676</td>\n",
       "    </tr>\n",
       "    <tr>\n",
       "      <th>9</th>\n",
       "      <td>Lil Whind - Trap do Gago</td>\n",
       "      <td>&lt;iframe width=\"480\" height=\"270\" src=\"//www.yo...</td>\n",
       "      <td>10470274</td>\n",
       "    </tr>\n",
       "    <tr>\n",
       "      <th>5</th>\n",
       "      <td>Lil Whind - Calor do Carai (feat. Hungria Hip ...</td>\n",
       "      <td>&lt;iframe width=\"480\" height=\"270\" src=\"//www.yo...</td>\n",
       "      <td>4528208</td>\n",
       "    </tr>\n",
       "    <tr>\n",
       "      <th>7</th>\n",
       "      <td>Lil Whind - Cachorro Caramelo (feat. Matheus G...</td>\n",
       "      <td>&lt;iframe width=\"480\" height=\"270\" src=\"//www.yo...</td>\n",
       "      <td>3592240</td>\n",
       "    </tr>\n",
       "    <tr>\n",
       "      <th>2</th>\n",
       "      <td>Lil Whind - Mãe</td>\n",
       "      <td>&lt;iframe width=\"480\" height=\"270\" src=\"//www.yo...</td>\n",
       "      <td>3572555</td>\n",
       "    </tr>\n",
       "    <tr>\n",
       "      <th>3</th>\n",
       "      <td>Lil Whind - Cerrado</td>\n",
       "      <td>&lt;iframe width=\"480\" height=\"270\" src=\"//www.yo...</td>\n",
       "      <td>2641489</td>\n",
       "    </tr>\n",
       "    <tr>\n",
       "      <th>1</th>\n",
       "      <td>Lil Whind - Caribe</td>\n",
       "      <td>&lt;iframe width=\"480\" height=\"270\" src=\"//www.yo...</td>\n",
       "      <td>2584982</td>\n",
       "    </tr>\n",
       "    <tr>\n",
       "      <th>0</th>\n",
       "      <td>Lil Whind - Tempo</td>\n",
       "      <td>&lt;iframe width=\"480\" height=\"270\" src=\"//www.yo...</td>\n",
       "      <td>2208929</td>\n",
       "    </tr>\n",
       "    <tr>\n",
       "      <th>4</th>\n",
       "      <td>Lil Whind - Cuscuz</td>\n",
       "      <td>&lt;iframe width=\"480\" height=\"270\" src=\"//www.yo...</td>\n",
       "      <td>1740151</td>\n",
       "    </tr>\n",
       "    <tr>\n",
       "      <th>6</th>\n",
       "      <td>Lil Whind - Amor Quântico</td>\n",
       "      <td>&lt;iframe width=\"480\" height=\"270\" src=\"//www.yo...</td>\n",
       "      <td>1659062</td>\n",
       "    </tr>\n",
       "  </tbody>\n",
       "</table>\n",
       "</div>"
      ],
      "text/plain": [
       "                                               Título  \\\n",
       "10                 Lil Whind - Piauí (feat. Rapadura)   \n",
       "9                            Lil Whind - Trap do Gago   \n",
       "5   Lil Whind - Calor do Carai (feat. Hungria Hip ...   \n",
       "7   Lil Whind - Cachorro Caramelo (feat. Matheus G...   \n",
       "2                                     Lil Whind - Mãe   \n",
       "3                                 Lil Whind - Cerrado   \n",
       "1                                  Lil Whind - Caribe   \n",
       "0                                   Lil Whind - Tempo   \n",
       "4                                  Lil Whind - Cuscuz   \n",
       "6                           Lil Whind - Amor Quântico   \n",
       "\n",
       "                                               Player  Visualizações  \n",
       "10  <iframe width=\"480\" height=\"270\" src=\"//www.yo...       17833676  \n",
       "9   <iframe width=\"480\" height=\"270\" src=\"//www.yo...       10470274  \n",
       "5   <iframe width=\"480\" height=\"270\" src=\"//www.yo...        4528208  \n",
       "7   <iframe width=\"480\" height=\"270\" src=\"//www.yo...        3592240  \n",
       "2   <iframe width=\"480\" height=\"270\" src=\"//www.yo...        3572555  \n",
       "3   <iframe width=\"480\" height=\"270\" src=\"//www.yo...        2641489  \n",
       "1   <iframe width=\"480\" height=\"270\" src=\"//www.yo...        2584982  \n",
       "0   <iframe width=\"480\" height=\"270\" src=\"//www.yo...        2208929  \n",
       "4   <iframe width=\"480\" height=\"270\" src=\"//www.yo...        1740151  \n",
       "6   <iframe width=\"480\" height=\"270\" src=\"//www.yo...        1659062  "
      ]
     },
     "execution_count": 59,
     "metadata": {},
     "output_type": "execute_result"
    }
   ],
   "source": [
    "df_lil_whind_top_10_visualizacoes"
   ]
  },
  {
   "cell_type": "code",
   "execution_count": 60,
   "metadata": {},
   "outputs": [],
   "source": [
    "df_lil_whind_top_10_visualizacoes.to_csv(path + 'lil_whind_top10_visualizacoes.csv', index=False)"
   ]
  },
  {
   "cell_type": "code",
   "execution_count": null,
   "metadata": {},
   "outputs": [],
   "source": []
  }
 ],
 "metadata": {
  "colab": {
   "collapsed_sections": [
    "e_0LF5mx8XKI",
    "SLRmqstYp7CK",
    "6045vcux9A2I",
    "rgb8p97O2i0l",
    "2EuYUS8t8blo"
   ],
   "provenance": [
    {
     "file_id": "1cqP7SJsyQg6vAQR8gCNR-uvkmdeSu_ie",
     "timestamp": 1676327020784
    },
    {
     "file_id": "1_e4ZQf_aBB9Qq92AYb37LbIAUTdFMKc5",
     "timestamp": 1656104951701
    }
   ]
  },
  "kernelspec": {
   "display_name": "Python 3 (ipykernel)",
   "language": "python",
   "name": "python3"
  },
  "language_info": {
   "codemirror_mode": {
    "name": "ipython",
    "version": 3
   },
   "file_extension": ".py",
   "mimetype": "text/x-python",
   "name": "python",
   "nbconvert_exporter": "python",
   "pygments_lexer": "ipython3",
   "version": "3.11.2"
  }
 },
 "nbformat": 4,
 "nbformat_minor": 1
}
