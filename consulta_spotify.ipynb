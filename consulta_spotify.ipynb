{
 "cells": [
  {
   "cell_type": "markdown",
   "metadata": {},
   "source": [
    "**INTRODUÇÃO**\n",
    "\n",
    "Neste notebook, acessamos a API do Spotify por meio do pacote python [Spotipy](https://spotipy.readthedocs.io/en/2.22.1/) para coletar informações sobre músicas de Whindersson Nunes e de seu pseudônimo, Lil Whind.\n",
    "\n",
    "**ÍNDICE**\n",
    "\n",
    "1. [Acesso à API](#Acesso)\n",
    "\n",
    "\n",
    "2. [Whindersson Nunes](#Whindersson)\n",
    "\n",
    "  2.1 [Artista](#Whindersson-Artista)\n",
    "\n",
    "  2.2 [Artistas Relacionados](#Whindersson-Artistas-Relacionados)\n",
    "  \n",
    "  2.3 [Albuns](#Whindersson-Albuns)\n",
    "  \n",
    "  2.4 [Top 10](#Whindersson-Top10)\n",
    "\n",
    "\n",
    "3. [Lil Whind](#Lil-Whind)\n",
    "\n",
    "  3.1 [Artista](#Lil-Artista)\n",
    "\n",
    "  3.2 [Artistas Relacionados](#Lil-Artistas-Relacionados)\n",
    "  \n",
    "  3.3 [Albuns](#Lil-Albuns)\n",
    "  \n",
    "  3.4 [Top 10](#Lil-Top10)"
   ]
  },
  {
   "cell_type": "code",
   "execution_count": null,
   "metadata": {
    "id": "by4S0P__oBNB"
   },
   "outputs": [],
   "source": [
    "!pip install spotipy --upgrade"
   ]
  },
  {
   "cell_type": "markdown",
   "metadata": {},
   "source": [
    "# 1. Acesso à API <a name=\"Acesso\"></a>"
   ]
  },
  {
   "cell_type": "code",
   "execution_count": 1,
   "metadata": {
    "executionInfo": {
     "elapsed": 719,
     "status": "ok",
     "timestamp": 1676398081990,
     "user": {
      "displayName": "Gabriela Custódio",
      "userId": "12660031906492553036"
     },
     "user_tz": 180
    },
    "id": "xVR3mkSfoFSg"
   },
   "outputs": [],
   "source": [
    "import pandas as pd\n",
    "import spotipy\n",
    "from spotipy.oauth2 import SpotifyClientCredentials"
   ]
  },
  {
   "cell_type": "code",
   "execution_count": 47,
   "metadata": {
    "executionInfo": {
     "elapsed": 7,
     "status": "ok",
     "timestamp": 1676398081991,
     "user": {
      "displayName": "Gabriela Custódio",
      "userId": "12660031906492553036"
     },
     "user_tz": 180
    },
    "id": "_qlSsYhjoG8f"
   },
   "outputs": [],
   "source": [
    "SPOTIPY_CLIENT_ID = 'client_id'\n",
    "SPOTIPY_CLIENT_SECRET = 'client_secret'"
   ]
  },
  {
   "cell_type": "code",
   "execution_count": 3,
   "metadata": {
    "executionInfo": {
     "elapsed": 6,
     "status": "ok",
     "timestamp": 1676398081991,
     "user": {
      "displayName": "Gabriela Custódio",
      "userId": "12660031906492553036"
     },
     "user_tz": 180
    },
    "id": "wllUNVompCLc"
   },
   "outputs": [],
   "source": [
    "auth_manager = SpotifyClientCredentials(client_id=SPOTIPY_CLIENT_ID, client_secret=SPOTIPY_CLIENT_SECRET)\n",
    "sp = spotipy.Spotify(auth_manager=auth_manager)"
   ]
  },
  {
   "cell_type": "code",
   "execution_count": 4,
   "metadata": {
    "executionInfo": {
     "elapsed": 6,
     "status": "ok",
     "timestamp": 1676398081992,
     "user": {
      "displayName": "Gabriela Custódio",
      "userId": "12660031906492553036"
     },
     "user_tz": 180
    },
    "id": "iKRDHjvYlHT5"
   },
   "outputs": [],
   "source": [
    "path = 'dataSpotify/'"
   ]
  },
  {
   "cell_type": "markdown",
   "metadata": {
    "id": "GvzwQc9rHMWB"
   },
   "source": [
    "# 2. Whindersson Nunes <a name=\"Whindersson\"></a>"
   ]
  },
  {
   "cell_type": "markdown",
   "metadata": {
    "id": "KlO2fxanJQ5W"
   },
   "source": [
    "## 2.1 Artista <a name=\"Whindersson-Artista\"></a>"
   ]
  },
  {
   "cell_type": "code",
   "execution_count": 5,
   "metadata": {
    "executionInfo": {
     "elapsed": 266,
     "status": "ok",
     "timestamp": 1676402403411,
     "user": {
      "displayName": "Gabriela Custódio",
      "userId": "12660031906492553036"
     },
     "user_tz": 180
    },
    "id": "4HMDxoaJpB_s"
   },
   "outputs": [],
   "source": [
    "# Whindersson Nunes\n",
    "artist_id = '2emd6h8cx0U8QUAxDddXPF'"
   ]
  },
  {
   "cell_type": "code",
   "execution_count": 6,
   "metadata": {
    "executionInfo": {
     "elapsed": 28,
     "status": "ok",
     "timestamp": 1676402403412,
     "user": {
      "displayName": "Gabriela Custódio",
      "userId": "12660031906492553036"
     },
     "user_tz": 180
    },
    "id": "Z6px3llPIAkl"
   },
   "outputs": [],
   "source": [
    "artist = sp.artist(artist_id)"
   ]
  },
  {
   "cell_type": "code",
   "execution_count": 7,
   "metadata": {
    "executionInfo": {
     "elapsed": 31,
     "status": "ok",
     "timestamp": 1676402403415,
     "user": {
      "displayName": "Gabriela Custódio",
      "userId": "12660031906492553036"
     },
     "user_tz": 180
    },
    "id": "5qJ40oFMIJUO"
   },
   "outputs": [],
   "source": [
    "artist_infos = list()\n",
    "\n",
    "artista = artist['name']\n",
    "id_artista = artist['id']\n",
    "perfil = artist['external_urls']['spotify']\n",
    "seguidores = artist['followers']['total']\n",
    "popularidade = artist['popularity']\n",
    "generos = artist['genres']\n",
    "imagem = artist['images'][0]['url']\n",
    "\n",
    "artist_infos.append((artista, id_artista, perfil, seguidores, popularidade, generos, imagem))"
   ]
  },
  {
   "cell_type": "code",
   "execution_count": 8,
   "metadata": {
    "executionInfo": {
     "elapsed": 31,
     "status": "ok",
     "timestamp": 1676402403416,
     "user": {
      "displayName": "Gabriela Custódio",
      "userId": "12660031906492553036"
     },
     "user_tz": 180
    },
    "id": "vvPtNPSyH84b"
   },
   "outputs": [],
   "source": [
    "df_whindersson = pd.DataFrame(artist_infos, index=None, columns=('artista', 'id_artista', 'perfil', 'seguidores', 'popularidade', 'generos', 'imagem'))"
   ]
  },
  {
   "cell_type": "code",
   "execution_count": 9,
   "metadata": {
    "colab": {
     "base_uri": "https://localhost:8080/",
     "height": 0
    },
    "executionInfo": {
     "elapsed": 32,
     "status": "ok",
     "timestamp": 1676402403417,
     "user": {
      "displayName": "Gabriela Custódio",
      "userId": "12660031906492553036"
     },
     "user_tz": 180
    },
    "id": "U5M7fBaiI8tW",
    "outputId": "43e8a17d-4e7a-4de1-c214-ba2e594ea199"
   },
   "outputs": [
    {
     "data": {
      "text/html": [
       "<div>\n",
       "<style scoped>\n",
       "    .dataframe tbody tr th:only-of-type {\n",
       "        vertical-align: middle;\n",
       "    }\n",
       "\n",
       "    .dataframe tbody tr th {\n",
       "        vertical-align: top;\n",
       "    }\n",
       "\n",
       "    .dataframe thead th {\n",
       "        text-align: right;\n",
       "    }\n",
       "</style>\n",
       "<table border=\"1\" class=\"dataframe\">\n",
       "  <thead>\n",
       "    <tr style=\"text-align: right;\">\n",
       "      <th></th>\n",
       "      <th>artista</th>\n",
       "      <th>id_artista</th>\n",
       "      <th>perfil</th>\n",
       "      <th>seguidores</th>\n",
       "      <th>popularidade</th>\n",
       "      <th>generos</th>\n",
       "      <th>imagem</th>\n",
       "    </tr>\n",
       "  </thead>\n",
       "  <tbody>\n",
       "    <tr>\n",
       "      <th>0</th>\n",
       "      <td>Whindersson Nunes</td>\n",
       "      <td>2emd6h8cx0U8QUAxDddXPF</td>\n",
       "      <td>https://open.spotify.com/artist/2emd6h8cx0U8QU...</td>\n",
       "      <td>148432</td>\n",
       "      <td>50</td>\n",
       "      <td>[arrocha, viral pop brasileiro]</td>\n",
       "      <td>https://i.scdn.co/image/ab6761610000e5ebbfe639...</td>\n",
       "    </tr>\n",
       "  </tbody>\n",
       "</table>\n",
       "</div>"
      ],
      "text/plain": [
       "             artista              id_artista  \\\n",
       "0  Whindersson Nunes  2emd6h8cx0U8QUAxDddXPF   \n",
       "\n",
       "                                              perfil  seguidores  \\\n",
       "0  https://open.spotify.com/artist/2emd6h8cx0U8QU...      148432   \n",
       "\n",
       "   popularidade                          generos  \\\n",
       "0            50  [arrocha, viral pop brasileiro]   \n",
       "\n",
       "                                              imagem  \n",
       "0  https://i.scdn.co/image/ab6761610000e5ebbfe639...  "
      ]
     },
     "execution_count": 9,
     "metadata": {},
     "output_type": "execute_result"
    }
   ],
   "source": [
    "df_whindersson"
   ]
  },
  {
   "cell_type": "markdown",
   "metadata": {
    "id": "7n6d-QRJryp1"
   },
   "source": [
    "## 2.2 Artistas Relacionados <a name=\"Whindersson-Artistas-Relacionados\"></a>"
   ]
  },
  {
   "cell_type": "code",
   "execution_count": 10,
   "metadata": {
    "executionInfo": {
     "elapsed": 29,
     "status": "ok",
     "timestamp": 1676402403417,
     "user": {
      "displayName": "Gabriela Custódio",
      "userId": "12660031906492553036"
     },
     "user_tz": 180
    },
    "id": "k-HBSt5yryKW"
   },
   "outputs": [],
   "source": [
    "relacionados = sp.artist_related_artists('2emd6h8cx0U8QUAxDddXPF')['artists']"
   ]
  },
  {
   "cell_type": "code",
   "execution_count": 11,
   "metadata": {
    "executionInfo": {
     "elapsed": 30,
     "status": "ok",
     "timestamp": 1676402403418,
     "user": {
      "displayName": "Gabriela Custódio",
      "userId": "12660031906492553036"
     },
     "user_tz": 180
    },
    "id": "fMunXjZdsWmg"
   },
   "outputs": [],
   "source": [
    "lista = []\n",
    "\n",
    "for artista in relacionados:\n",
    "    artistas_relacionados = {}\n",
    "    artistas_relacionados['nome'] = artista['name']\n",
    "    artistas_relacionados['popularidade'] = artista['popularity']\n",
    "    artistas_relacionados['seguidores'] = artista['followers']['total']\n",
    "    artistas_relacionados['imagem'] = artista['images'][0]['url']  \n",
    "    lista.append(artistas_relacionados)"
   ]
  },
  {
   "cell_type": "code",
   "execution_count": 12,
   "metadata": {
    "executionInfo": {
     "elapsed": 29,
     "status": "ok",
     "timestamp": 1676402403418,
     "user": {
      "displayName": "Gabriela Custódio",
      "userId": "12660031906492553036"
     },
     "user_tz": 180
    },
    "id": "5DxGZpKtufh7"
   },
   "outputs": [],
   "source": [
    "dfArtistasRelacionados = pd.DataFrame(lista)"
   ]
  },
  {
   "cell_type": "code",
   "execution_count": 13,
   "metadata": {
    "executionInfo": {
     "elapsed": 29,
     "status": "ok",
     "timestamp": 1676402403419,
     "user": {
      "displayName": "Gabriela Custódio",
      "userId": "12660031906492553036"
     },
     "user_tz": 180
    },
    "id": "T4nPNnpuwvYG"
   },
   "outputs": [],
   "source": [
    "dfArtistasRelacionados.to_csv(path+'whindersson_artistas_relacionados.csv', index=False)"
   ]
  },
  {
   "cell_type": "markdown",
   "metadata": {
    "id": "bVN_3yQxm0-u"
   },
   "source": [
    "## 2.3 Albuns <a name=\"Whindersson-Albuns\"></a>"
   ]
  },
  {
   "cell_type": "code",
   "execution_count": 14,
   "metadata": {
    "executionInfo": {
     "elapsed": 28,
     "status": "ok",
     "timestamp": 1676402403419,
     "user": {
      "displayName": "Gabriela Custódio",
      "userId": "12660031906492553036"
     },
     "user_tz": 180
    },
    "id": "NMQi8MP8m5Uu"
   },
   "outputs": [],
   "source": [
    "albuns_whindersson = sp.artist_albums('2emd6h8cx0U8QUAxDddXPF')['items']"
   ]
  },
  {
   "cell_type": "code",
   "execution_count": 15,
   "metadata": {
    "colab": {
     "base_uri": "https://localhost:8080/"
    },
    "executionInfo": {
     "elapsed": 28,
     "status": "ok",
     "timestamp": 1676402403420,
     "user": {
      "displayName": "Gabriela Custódio",
      "userId": "12660031906492553036"
     },
     "user_tz": 180
    },
    "id": "RQ8fDau4nPfl",
    "outputId": "575ce1c3-267d-4177-86dd-8960cc8a1122"
   },
   "outputs": [
    {
     "data": {
      "text/plain": [
       "20"
      ]
     },
     "execution_count": 15,
     "metadata": {},
     "output_type": "execute_result"
    }
   ],
   "source": [
    "len(albuns_whindersson)"
   ]
  },
  {
   "cell_type": "code",
   "execution_count": 16,
   "metadata": {
    "executionInfo": {
     "elapsed": 26,
     "status": "ok",
     "timestamp": 1676402403420,
     "user": {
      "displayName": "Gabriela Custódio",
      "userId": "12660031906492553036"
     },
     "user_tz": 180
    },
    "id": "a6WKuZuboLW9"
   },
   "outputs": [],
   "source": [
    "lista_de_albuns = []\n",
    "\n",
    "for album in albuns_whindersson:\n",
    "    albuns = {}\n",
    "    albuns['nome'] = album['name']\n",
    "    albuns['id'] = album['id']\n",
    "    albuns['lançamento'] = album['release_date']\n",
    "    albuns['numero_de_musicas'] = album['total_tracks']\n",
    "    albuns['imagem'] = album['images'][0]['url']\n",
    "    albuns['categoria'] = album['album_group']\n",
    "    albuns['tipo'] = album['album_type']\n",
    "    albuns['qtde_artistas'] = len(album['artists'])\n",
    "    albuns['artista'] = album['artists'][0]['name']\n",
    "    lista_de_albuns.append(albuns)"
   ]
  },
  {
   "cell_type": "code",
   "execution_count": 17,
   "metadata": {
    "executionInfo": {
     "elapsed": 26,
     "status": "ok",
     "timestamp": 1676402403421,
     "user": {
      "displayName": "Gabriela Custódio",
      "userId": "12660031906492553036"
     },
     "user_tz": 180
    },
    "id": "N1hc7LuIo3SV"
   },
   "outputs": [],
   "source": [
    "dfAlbunsWhindersson = pd.DataFrame(lista_de_albuns)"
   ]
  },
  {
   "cell_type": "code",
   "execution_count": 18,
   "metadata": {
    "executionInfo": {
     "elapsed": 28,
     "status": "ok",
     "timestamp": 1676402403423,
     "user": {
      "displayName": "Gabriela Custódio",
      "userId": "12660031906492553036"
     },
     "user_tz": 180
    },
    "id": "cjfu5KQ7zzl5"
   },
   "outputs": [],
   "source": [
    "dfAlbunsWhindersson.to_csv(path+'whindersson_albuns.csv', index=False)"
   ]
  },
  {
   "cell_type": "markdown",
   "metadata": {
    "id": "bCfhyr5oJVGF"
   },
   "source": [
    "## 2.4 Top 10 <a name=\"Whindersson-Top10\"></a>"
   ]
  },
  {
   "cell_type": "code",
   "execution_count": 19,
   "metadata": {
    "colab": {
     "base_uri": "https://localhost:8080/"
    },
    "executionInfo": {
     "elapsed": 265,
     "status": "ok",
     "timestamp": 1676402403661,
     "user": {
      "displayName": "Gabriela Custódio",
      "userId": "12660031906492553036"
     },
     "user_tz": 180
    },
    "id": "3hOOQ--zJfIB",
    "outputId": "02453b8a-aac8-4653-ca58-cb598261fc0c"
   },
   "outputs": [
    {
     "data": {
      "text/plain": [
       "10"
      ]
     },
     "execution_count": 19,
     "metadata": {},
     "output_type": "execute_result"
    }
   ],
   "source": [
    "# top 10\n",
    "top_10_music = sp.artist_top_tracks(artist_id)['tracks']\n",
    "len(top_10_music)"
   ]
  },
  {
   "cell_type": "code",
   "execution_count": 20,
   "metadata": {
    "executionInfo": {
     "elapsed": 8,
     "status": "ok",
     "timestamp": 1676402403661,
     "user": {
      "displayName": "Gabriela Custódio",
      "userId": "12660031906492553036"
     },
     "user_tz": 180
    },
    "id": "7EWiXAoVJsXv"
   },
   "outputs": [],
   "source": [
    "top_10_list = list()\n",
    "\n",
    "for i, music in enumerate(top_10_music):\n",
    "    nome_artista = music['artists'][0]['name']\n",
    "    id_artista = music['artists'][0]['id']\n",
    "    album = music['album']['name']\n",
    "    id_album = music['album']['id']\n",
    "    lancamento = music['album']['release_date']\n",
    "    musica = music['name']\n",
    "    id_musica = music['id']\n",
    "    popularidade = music['popularity']\n",
    "    if music['is_playable'] == True:\n",
    "        preview_url = music['preview_url']\n",
    "    if music['is_playable'] == False:\n",
    "        preview_url = []\n",
    "        imagem = music['album']['images'][0]['url']\n",
    "        \n",
    "    top_10_list.append((nome_artista, id_artista, album, id_album, lancamento, musica, id_musica, popularidade, preview_url, imagem))"
   ]
  },
  {
   "cell_type": "code",
   "execution_count": 21,
   "metadata": {
    "executionInfo": {
     "elapsed": 8,
     "status": "ok",
     "timestamp": 1676402403662,
     "user": {
      "displayName": "Gabriela Custódio",
      "userId": "12660031906492553036"
     },
     "user_tz": 180
    },
    "id": "OCwyiQ8yJsaa"
   },
   "outputs": [],
   "source": [
    "df_top_10_list = pd.DataFrame(top_10_list, index=None, columns=('artista', 'id_artista', 'album', 'id_album', 'lancamento', 'musica', 'id_musica', 'popularidade', 'preview_url', 'imagem'))"
   ]
  },
  {
   "cell_type": "code",
   "execution_count": 22,
   "metadata": {
    "executionInfo": {
     "elapsed": 10,
     "status": "ok",
     "timestamp": 1676402403664,
     "user": {
      "displayName": "Gabriela Custódio",
      "userId": "12660031906492553036"
     },
     "user_tz": 180
    },
    "id": "oQHWkYukJscz"
   },
   "outputs": [],
   "source": [
    "df_top_10_list['ano_lancamento'] = df_top_10_list['lancamento'].str.slice(start=0, stop=4)"
   ]
  },
  {
   "cell_type": "code",
   "execution_count": 23,
   "metadata": {
    "colab": {
     "base_uri": "https://localhost:8080/",
     "height": 0
    },
    "executionInfo": {
     "elapsed": 9,
     "status": "ok",
     "timestamp": 1676402403664,
     "user": {
      "displayName": "Gabriela Custódio",
      "userId": "12660031906492553036"
     },
     "user_tz": 180
    },
    "id": "ntW3SBSNktH6",
    "outputId": "6e92f87d-c35b-4d56-bb49-6e57ee11e890"
   },
   "outputs": [
    {
     "data": {
      "text/html": [
       "<div>\n",
       "<style scoped>\n",
       "    .dataframe tbody tr th:only-of-type {\n",
       "        vertical-align: middle;\n",
       "    }\n",
       "\n",
       "    .dataframe tbody tr th {\n",
       "        vertical-align: top;\n",
       "    }\n",
       "\n",
       "    .dataframe thead th {\n",
       "        text-align: right;\n",
       "    }\n",
       "</style>\n",
       "<table border=\"1\" class=\"dataframe\">\n",
       "  <thead>\n",
       "    <tr style=\"text-align: right;\">\n",
       "      <th></th>\n",
       "      <th>artista</th>\n",
       "      <th>id_artista</th>\n",
       "      <th>album</th>\n",
       "      <th>id_album</th>\n",
       "      <th>lancamento</th>\n",
       "      <th>musica</th>\n",
       "      <th>id_musica</th>\n",
       "      <th>popularidade</th>\n",
       "      <th>preview_url</th>\n",
       "      <th>imagem</th>\n",
       "      <th>ano_lancamento</th>\n",
       "    </tr>\n",
       "  </thead>\n",
       "  <tbody>\n",
       "    <tr>\n",
       "      <th>0</th>\n",
       "      <td>Priscilla Alcantara</td>\n",
       "      <td>4jkOEd7kQE6UyiXnuQy9pa</td>\n",
       "      <td>Girassol</td>\n",
       "      <td>3NpsEXK612BTwLLIFQECxO</td>\n",
       "      <td>2019-12-12</td>\n",
       "      <td>Girassol</td>\n",
       "      <td>22rcaYTa2UgcLCbeO0NoNj</td>\n",
       "      <td>59</td>\n",
       "      <td>https://p.scdn.co/mp3-preview/46bfacc07bf83ceb...</td>\n",
       "      <td>https://i.scdn.co/image/ab6761610000e5ebbfe639...</td>\n",
       "      <td>2019</td>\n",
       "    </tr>\n",
       "    <tr>\n",
       "      <th>1</th>\n",
       "      <td>Whindersson Nunes</td>\n",
       "      <td>2emd6h8cx0U8QUAxDddXPF</td>\n",
       "      <td>Morena (feat. João Gomes)</td>\n",
       "      <td>5ecH8b9GnLPeALSWbCbkxS</td>\n",
       "      <td>2021-11-26</td>\n",
       "      <td>Morena (feat. João Gomes)</td>\n",
       "      <td>1X1jbaEN1a7wYrCXj4C5Vx</td>\n",
       "      <td>50</td>\n",
       "      <td>https://p.scdn.co/mp3-preview/a743e2e9bba0ccbb...</td>\n",
       "      <td>https://i.scdn.co/image/ab6761610000e5ebbfe639...</td>\n",
       "      <td>2021</td>\n",
       "    </tr>\n",
       "    <tr>\n",
       "      <th>2</th>\n",
       "      <td>Luan Otten</td>\n",
       "      <td>7tcFzUKSICkJWCZzWs4htq</td>\n",
       "      <td>Paraíso</td>\n",
       "      <td>5JJJgtNHFcvrcbJo3kNk0F</td>\n",
       "      <td>2020-08-21</td>\n",
       "      <td>Paraíso</td>\n",
       "      <td>6zHETn11reRan0JHwDDz4u</td>\n",
       "      <td>43</td>\n",
       "      <td>https://p.scdn.co/mp3-preview/12765f722c426b2a...</td>\n",
       "      <td>https://i.scdn.co/image/ab6761610000e5ebbfe639...</td>\n",
       "      <td>2020</td>\n",
       "    </tr>\n",
       "    <tr>\n",
       "      <th>3</th>\n",
       "      <td>Ivete Sangalo</td>\n",
       "      <td>7dzq55YG3wjViqexDwiycQ</td>\n",
       "      <td>O Mundo Vai</td>\n",
       "      <td>23WUSdlu1oSegP8E0gSDjV</td>\n",
       "      <td>2020-01-24</td>\n",
       "      <td>Coisa Linda</td>\n",
       "      <td>7Hq8x7RRDvl0E3F5gRc6K2</td>\n",
       "      <td>37</td>\n",
       "      <td>None</td>\n",
       "      <td>https://i.scdn.co/image/ab6761610000e5ebbfe639...</td>\n",
       "      <td>2020</td>\n",
       "    </tr>\n",
       "    <tr>\n",
       "      <th>4</th>\n",
       "      <td>Alok</td>\n",
       "      <td>0NGAZxHanS9e0iNHpR8f2W</td>\n",
       "      <td>Baião</td>\n",
       "      <td>5plmtJTPOSJFfWS9n4m1Dz</td>\n",
       "      <td>2021-09-17</td>\n",
       "      <td>Baião</td>\n",
       "      <td>50YRoMK3fWVFLZEO7lUEpB</td>\n",
       "      <td>35</td>\n",
       "      <td>None</td>\n",
       "      <td>https://i.scdn.co/image/ab6761610000e5ebbfe639...</td>\n",
       "      <td>2021</td>\n",
       "    </tr>\n",
       "    <tr>\n",
       "      <th>5</th>\n",
       "      <td>Luan Otten</td>\n",
       "      <td>7tcFzUKSICkJWCZzWs4htq</td>\n",
       "      <td>Paraíso (Acústico)</td>\n",
       "      <td>5UVBBD6zh6Z732Ty6kgs1H</td>\n",
       "      <td>2020-10-30</td>\n",
       "      <td>Paraíso - Acústico</td>\n",
       "      <td>6UkOK6KAqEj1kRRU2XaAcZ</td>\n",
       "      <td>33</td>\n",
       "      <td>https://p.scdn.co/mp3-preview/5200566b94f7d3e6...</td>\n",
       "      <td>https://i.scdn.co/image/ab6761610000e5ebbfe639...</td>\n",
       "      <td>2020</td>\n",
       "    </tr>\n",
       "    <tr>\n",
       "      <th>6</th>\n",
       "      <td>Tirullipa</td>\n",
       "      <td>2SG17RyX7HzoebuwQv1YmZ</td>\n",
       "      <td>Eu Vou Tu Vai</td>\n",
       "      <td>1yXGg7fl1KQzEjkkSSlpHe</td>\n",
       "      <td>2019-02-04</td>\n",
       "      <td>Eu Vou Tu Vai</td>\n",
       "      <td>1YCVWzSkLZhzoqzbuEiPcT</td>\n",
       "      <td>28</td>\n",
       "      <td>None</td>\n",
       "      <td>https://i.scdn.co/image/ab6761610000e5ebbfe639...</td>\n",
       "      <td>2019</td>\n",
       "    </tr>\n",
       "    <tr>\n",
       "      <th>7</th>\n",
       "      <td>Tirullipa</td>\n",
       "      <td>2SG17RyX7HzoebuwQv1YmZ</td>\n",
       "      <td>Hit Do Pão</td>\n",
       "      <td>2bHCNmyZ7hMdymPuq5gBkL</td>\n",
       "      <td>2020-02-14</td>\n",
       "      <td>Hit Do Pão</td>\n",
       "      <td>5c4hWaTyRcGf0ymmeFna8p</td>\n",
       "      <td>18</td>\n",
       "      <td>https://p.scdn.co/mp3-preview/a787b8d3565582ae...</td>\n",
       "      <td>https://i.scdn.co/image/ab6761610000e5ebbfe639...</td>\n",
       "      <td>2020</td>\n",
       "    </tr>\n",
       "    <tr>\n",
       "      <th>8</th>\n",
       "      <td>Whindersson Nunes</td>\n",
       "      <td>2emd6h8cx0U8QUAxDddXPF</td>\n",
       "      <td>Na Sua Cara</td>\n",
       "      <td>41CbnMlP4ufxhGC2I8nHfg</td>\n",
       "      <td>2017-09-03</td>\n",
       "      <td>Na Sua Cara</td>\n",
       "      <td>2D6UOeMEWwZtDFfCQWwc7M</td>\n",
       "      <td>10</td>\n",
       "      <td>https://p.scdn.co/mp3-preview/c6536b6d3fe4fb7c...</td>\n",
       "      <td>https://i.scdn.co/image/ab6761610000e5ebbfe639...</td>\n",
       "      <td>2017</td>\n",
       "    </tr>\n",
       "    <tr>\n",
       "      <th>9</th>\n",
       "      <td>Filtr Karaoke</td>\n",
       "      <td>6lAQLMthrFjCx6JWlXCmL7</td>\n",
       "      <td>Filtr Karaoke - Sucessos</td>\n",
       "      <td>2t1tWGHFfwgv50YyWlHWzt</td>\n",
       "      <td>2020-11-27</td>\n",
       "      <td>Girassol - Karaokê Instrumental</td>\n",
       "      <td>7v7OqAuPXNt5EyYrPoVjiB</td>\n",
       "      <td>9</td>\n",
       "      <td>https://p.scdn.co/mp3-preview/cae7c3a1b332a584...</td>\n",
       "      <td>https://i.scdn.co/image/ab6761610000e5ebbfe639...</td>\n",
       "      <td>2020</td>\n",
       "    </tr>\n",
       "  </tbody>\n",
       "</table>\n",
       "</div>"
      ],
      "text/plain": [
       "               artista              id_artista                      album  \\\n",
       "0  Priscilla Alcantara  4jkOEd7kQE6UyiXnuQy9pa                   Girassol   \n",
       "1    Whindersson Nunes  2emd6h8cx0U8QUAxDddXPF  Morena (feat. João Gomes)   \n",
       "2           Luan Otten  7tcFzUKSICkJWCZzWs4htq                    Paraíso   \n",
       "3        Ivete Sangalo  7dzq55YG3wjViqexDwiycQ                O Mundo Vai   \n",
       "4                 Alok  0NGAZxHanS9e0iNHpR8f2W                      Baião   \n",
       "5           Luan Otten  7tcFzUKSICkJWCZzWs4htq         Paraíso (Acústico)   \n",
       "6            Tirullipa  2SG17RyX7HzoebuwQv1YmZ              Eu Vou Tu Vai   \n",
       "7            Tirullipa  2SG17RyX7HzoebuwQv1YmZ                 Hit Do Pão   \n",
       "8    Whindersson Nunes  2emd6h8cx0U8QUAxDddXPF                Na Sua Cara   \n",
       "9        Filtr Karaoke  6lAQLMthrFjCx6JWlXCmL7   Filtr Karaoke - Sucessos   \n",
       "\n",
       "                 id_album  lancamento                           musica  \\\n",
       "0  3NpsEXK612BTwLLIFQECxO  2019-12-12                         Girassol   \n",
       "1  5ecH8b9GnLPeALSWbCbkxS  2021-11-26        Morena (feat. João Gomes)   \n",
       "2  5JJJgtNHFcvrcbJo3kNk0F  2020-08-21                          Paraíso   \n",
       "3  23WUSdlu1oSegP8E0gSDjV  2020-01-24                      Coisa Linda   \n",
       "4  5plmtJTPOSJFfWS9n4m1Dz  2021-09-17                            Baião   \n",
       "5  5UVBBD6zh6Z732Ty6kgs1H  2020-10-30               Paraíso - Acústico   \n",
       "6  1yXGg7fl1KQzEjkkSSlpHe  2019-02-04                    Eu Vou Tu Vai   \n",
       "7  2bHCNmyZ7hMdymPuq5gBkL  2020-02-14                       Hit Do Pão   \n",
       "8  41CbnMlP4ufxhGC2I8nHfg  2017-09-03                      Na Sua Cara   \n",
       "9  2t1tWGHFfwgv50YyWlHWzt  2020-11-27  Girassol - Karaokê Instrumental   \n",
       "\n",
       "                id_musica  popularidade  \\\n",
       "0  22rcaYTa2UgcLCbeO0NoNj            59   \n",
       "1  1X1jbaEN1a7wYrCXj4C5Vx            50   \n",
       "2  6zHETn11reRan0JHwDDz4u            43   \n",
       "3  7Hq8x7RRDvl0E3F5gRc6K2            37   \n",
       "4  50YRoMK3fWVFLZEO7lUEpB            35   \n",
       "5  6UkOK6KAqEj1kRRU2XaAcZ            33   \n",
       "6  1YCVWzSkLZhzoqzbuEiPcT            28   \n",
       "7  5c4hWaTyRcGf0ymmeFna8p            18   \n",
       "8  2D6UOeMEWwZtDFfCQWwc7M            10   \n",
       "9  7v7OqAuPXNt5EyYrPoVjiB             9   \n",
       "\n",
       "                                         preview_url  \\\n",
       "0  https://p.scdn.co/mp3-preview/46bfacc07bf83ceb...   \n",
       "1  https://p.scdn.co/mp3-preview/a743e2e9bba0ccbb...   \n",
       "2  https://p.scdn.co/mp3-preview/12765f722c426b2a...   \n",
       "3                                               None   \n",
       "4                                               None   \n",
       "5  https://p.scdn.co/mp3-preview/5200566b94f7d3e6...   \n",
       "6                                               None   \n",
       "7  https://p.scdn.co/mp3-preview/a787b8d3565582ae...   \n",
       "8  https://p.scdn.co/mp3-preview/c6536b6d3fe4fb7c...   \n",
       "9  https://p.scdn.co/mp3-preview/cae7c3a1b332a584...   \n",
       "\n",
       "                                              imagem ano_lancamento  \n",
       "0  https://i.scdn.co/image/ab6761610000e5ebbfe639...           2019  \n",
       "1  https://i.scdn.co/image/ab6761610000e5ebbfe639...           2021  \n",
       "2  https://i.scdn.co/image/ab6761610000e5ebbfe639...           2020  \n",
       "3  https://i.scdn.co/image/ab6761610000e5ebbfe639...           2020  \n",
       "4  https://i.scdn.co/image/ab6761610000e5ebbfe639...           2021  \n",
       "5  https://i.scdn.co/image/ab6761610000e5ebbfe639...           2020  \n",
       "6  https://i.scdn.co/image/ab6761610000e5ebbfe639...           2019  \n",
       "7  https://i.scdn.co/image/ab6761610000e5ebbfe639...           2020  \n",
       "8  https://i.scdn.co/image/ab6761610000e5ebbfe639...           2017  \n",
       "9  https://i.scdn.co/image/ab6761610000e5ebbfe639...           2020  "
      ]
     },
     "execution_count": 23,
     "metadata": {},
     "output_type": "execute_result"
    }
   ],
   "source": [
    "df_top_10_list"
   ]
  },
  {
   "cell_type": "code",
   "execution_count": 24,
   "metadata": {
    "executionInfo": {
     "elapsed": 243,
     "status": "ok",
     "timestamp": 1676402403899,
     "user": {
      "displayName": "Gabriela Custódio",
      "userId": "12660031906492553036"
     },
     "user_tz": 180
    },
    "id": "zEBnyoKRKFe8"
   },
   "outputs": [],
   "source": [
    "df_top_10_list.to_csv(path+'whindersson_top_10_list.csv', index=False)"
   ]
  },
  {
   "cell_type": "markdown",
   "metadata": {
    "id": "vUCSPGI0HV9e"
   },
   "source": [
    "# 3. Lil Whind <a name=\"Lil-Whind\"></a>"
   ]
  },
  {
   "cell_type": "markdown",
   "metadata": {
    "id": "kPy-1AbfHV9e"
   },
   "source": [
    "## 3.1 Artista <a name=\"Lil-Artista\"></a>"
   ]
  },
  {
   "cell_type": "code",
   "execution_count": 25,
   "metadata": {
    "executionInfo": {
     "elapsed": 314,
     "status": "ok",
     "timestamp": 1676402406052,
     "user": {
      "displayName": "Gabriela Custódio",
      "userId": "12660031906492553036"
     },
     "user_tz": 180
    },
    "id": "Vk3XR1YOHV9f"
   },
   "outputs": [],
   "source": [
    "# Lil Whind\n",
    "id_lil_whind = '3r3YJUzNBJc9y703QG8zkr'"
   ]
  },
  {
   "cell_type": "code",
   "execution_count": 26,
   "metadata": {
    "executionInfo": {
     "elapsed": 24,
     "status": "ok",
     "timestamp": 1676402406053,
     "user": {
      "displayName": "Gabriela Custódio",
      "userId": "12660031906492553036"
     },
     "user_tz": 180
    },
    "id": "T3uafBfPHV9f"
   },
   "outputs": [],
   "source": [
    "lil_whind_artist = sp.artist(id_lil_whind)"
   ]
  },
  {
   "cell_type": "code",
   "execution_count": 27,
   "metadata": {
    "executionInfo": {
     "elapsed": 24,
     "status": "ok",
     "timestamp": 1676402406054,
     "user": {
      "displayName": "Gabriela Custódio",
      "userId": "12660031906492553036"
     },
     "user_tz": 180
    },
    "id": "2WEostG_HV9f"
   },
   "outputs": [],
   "source": [
    "lil_whind_infos = list()\n",
    "\n",
    "artista = lil_whind_artist['name']\n",
    "id_artista = lil_whind_artist['id']\n",
    "perfil = lil_whind_artist['external_urls']['spotify']\n",
    "seguidores = lil_whind_artist['followers']['total']\n",
    "popularidade = lil_whind_artist['popularity']\n",
    "generos = lil_whind_artist['genres']\n",
    "imagem = lil_whind_artist['images'][0]['url']\n",
    "\n",
    "lil_whind_infos.append((artista, id_artista, perfil, seguidores, popularidade, generos, imagem))"
   ]
  },
  {
   "cell_type": "code",
   "execution_count": 28,
   "metadata": {
    "executionInfo": {
     "elapsed": 25,
     "status": "ok",
     "timestamp": 1676402406055,
     "user": {
      "displayName": "Gabriela Custódio",
      "userId": "12660031906492553036"
     },
     "user_tz": 180
    },
    "id": "my_IypOWHV9f"
   },
   "outputs": [],
   "source": [
    "df_lil_whind = pd.DataFrame(lil_whind_infos, index=None, columns=('artista', 'id_artista', 'perfil', 'seguidores', 'popularidade', 'generos', 'imagem'))"
   ]
  },
  {
   "cell_type": "code",
   "execution_count": 29,
   "metadata": {
    "colab": {
     "base_uri": "https://localhost:8080/",
     "height": 0
    },
    "executionInfo": {
     "elapsed": 25,
     "status": "ok",
     "timestamp": 1676402406056,
     "user": {
      "displayName": "Gabriela Custódio",
      "userId": "12660031906492553036"
     },
     "user_tz": 180
    },
    "id": "UY4sqJq9HV9f",
    "outputId": "5624313a-4bfc-4355-a04a-973bd4f55b9d"
   },
   "outputs": [
    {
     "data": {
      "text/html": [
       "<div>\n",
       "<style scoped>\n",
       "    .dataframe tbody tr th:only-of-type {\n",
       "        vertical-align: middle;\n",
       "    }\n",
       "\n",
       "    .dataframe tbody tr th {\n",
       "        vertical-align: top;\n",
       "    }\n",
       "\n",
       "    .dataframe thead th {\n",
       "        text-align: right;\n",
       "    }\n",
       "</style>\n",
       "<table border=\"1\" class=\"dataframe\">\n",
       "  <thead>\n",
       "    <tr style=\"text-align: right;\">\n",
       "      <th></th>\n",
       "      <th>artista</th>\n",
       "      <th>id_artista</th>\n",
       "      <th>perfil</th>\n",
       "      <th>seguidores</th>\n",
       "      <th>popularidade</th>\n",
       "      <th>generos</th>\n",
       "      <th>imagem</th>\n",
       "    </tr>\n",
       "  </thead>\n",
       "  <tbody>\n",
       "    <tr>\n",
       "      <th>0</th>\n",
       "      <td>Lil Whind</td>\n",
       "      <td>3r3YJUzNBJc9y703QG8zkr</td>\n",
       "      <td>https://open.spotify.com/artist/3r3YJUzNBJc9y7...</td>\n",
       "      <td>134245</td>\n",
       "      <td>56</td>\n",
       "      <td>[]</td>\n",
       "      <td>https://i.scdn.co/image/ab6761610000e5eb5887ba...</td>\n",
       "    </tr>\n",
       "  </tbody>\n",
       "</table>\n",
       "</div>"
      ],
      "text/plain": [
       "     artista              id_artista  \\\n",
       "0  Lil Whind  3r3YJUzNBJc9y703QG8zkr   \n",
       "\n",
       "                                              perfil  seguidores  \\\n",
       "0  https://open.spotify.com/artist/3r3YJUzNBJc9y7...      134245   \n",
       "\n",
       "   popularidade generos                                             imagem  \n",
       "0            56      []  https://i.scdn.co/image/ab6761610000e5eb5887ba...  "
      ]
     },
     "execution_count": 29,
     "metadata": {},
     "output_type": "execute_result"
    }
   ],
   "source": [
    "df_lil_whind"
   ]
  },
  {
   "cell_type": "markdown",
   "metadata": {
    "id": "jov48kJfHV9g"
   },
   "source": [
    "## Artistas Relacionados <a name=\"Lil-Artistas-Relacionados\"></a>"
   ]
  },
  {
   "cell_type": "code",
   "execution_count": 30,
   "metadata": {
    "executionInfo": {
     "elapsed": 25,
     "status": "ok",
     "timestamp": 1676402406059,
     "user": {
      "displayName": "Gabriela Custódio",
      "userId": "12660031906492553036"
     },
     "user_tz": 180
    },
    "id": "vVUAhGxCHV9g"
   },
   "outputs": [],
   "source": [
    "lil_whind_relacionados = sp.artist_related_artists(id_lil_whind)['artists']"
   ]
  },
  {
   "cell_type": "code",
   "execution_count": 31,
   "metadata": {
    "executionInfo": {
     "elapsed": 27,
     "status": "ok",
     "timestamp": 1676402406062,
     "user": {
      "displayName": "Gabriela Custódio",
      "userId": "12660031906492553036"
     },
     "user_tz": 180
    },
    "id": "4x0B28PZHV9g"
   },
   "outputs": [],
   "source": [
    "lista_lil_whind_relacionados = []\n",
    "\n",
    "for artista in lil_whind_relacionados:\n",
    "    artistas_relacionados = {}\n",
    "    artistas_relacionados['nome'] = artista['name']\n",
    "    artistas_relacionados['popularidade'] = artista['popularity']\n",
    "    artistas_relacionados['seguidores'] = artista['followers']['total']\n",
    "    artistas_relacionados['imagem'] = artista['images'][0]['url']  \n",
    "    lista_lil_whind_relacionados.append(artistas_relacionados)"
   ]
  },
  {
   "cell_type": "code",
   "execution_count": 32,
   "metadata": {
    "executionInfo": {
     "elapsed": 28,
     "status": "ok",
     "timestamp": 1676402406064,
     "user": {
      "displayName": "Gabriela Custódio",
      "userId": "12660031906492553036"
     },
     "user_tz": 180
    },
    "id": "qXIzOvdmHV9h"
   },
   "outputs": [],
   "source": [
    "dfArtistasRelacionados_lil_whind = pd.DataFrame(lista_lil_whind_relacionados)"
   ]
  },
  {
   "cell_type": "code",
   "execution_count": 33,
   "metadata": {
    "executionInfo": {
     "elapsed": 28,
     "status": "ok",
     "timestamp": 1676402406065,
     "user": {
      "displayName": "Gabriela Custódio",
      "userId": "12660031906492553036"
     },
     "user_tz": 180
    },
    "id": "YJ1VP4wyHV9h"
   },
   "outputs": [],
   "source": [
    "dfArtistasRelacionados_lil_whind.to_csv(path+'lil_whind_artistas_relacionados.csv', index=False)"
   ]
  },
  {
   "cell_type": "markdown",
   "metadata": {
    "id": "Jsuk21p3HV9h"
   },
   "source": [
    "## Albuns <a name=\"Lil-Albuns\"></a>"
   ]
  },
  {
   "cell_type": "code",
   "execution_count": 34,
   "metadata": {
    "executionInfo": {
     "elapsed": 253,
     "status": "ok",
     "timestamp": 1676402406291,
     "user": {
      "displayName": "Gabriela Custódio",
      "userId": "12660031906492553036"
     },
     "user_tz": 180
    },
    "id": "8wiuG_oNHV9h"
   },
   "outputs": [],
   "source": [
    "albuns_lil_whind = sp.artist_albums(id_lil_whind)['items']"
   ]
  },
  {
   "cell_type": "code",
   "execution_count": 35,
   "metadata": {
    "colab": {
     "base_uri": "https://localhost:8080/"
    },
    "executionInfo": {
     "elapsed": 12,
     "status": "ok",
     "timestamp": 1676402406291,
     "user": {
      "displayName": "Gabriela Custódio",
      "userId": "12660031906492553036"
     },
     "user_tz": 180
    },
    "id": "NmVxOvMMHV9h",
    "outputId": "96d2fd46-5b60-47f7-ff6b-11f46ecabe5c"
   },
   "outputs": [
    {
     "data": {
      "text/plain": [
       "18"
      ]
     },
     "execution_count": 35,
     "metadata": {},
     "output_type": "execute_result"
    }
   ],
   "source": [
    "len(albuns_lil_whind)"
   ]
  },
  {
   "cell_type": "code",
   "execution_count": 36,
   "metadata": {
    "executionInfo": {
     "elapsed": 11,
     "status": "ok",
     "timestamp": 1676402406292,
     "user": {
      "displayName": "Gabriela Custódio",
      "userId": "12660031906492553036"
     },
     "user_tz": 180
    },
    "id": "_V2mvxd2HV9i"
   },
   "outputs": [],
   "source": [
    "lista_de_albuns_lil_whind = []\n",
    "\n",
    "for album in albuns_lil_whind:\n",
    "    albuns = {}\n",
    "    albuns['nome'] = album['name']\n",
    "    albuns['id'] = album['id']\n",
    "    albuns['lançamento'] = album['release_date']\n",
    "    albuns['numero_de_musicas'] = album['total_tracks']\n",
    "    albuns['imagem'] = album['images'][0]['url']\n",
    "    albuns['categoria'] = album['album_group']\n",
    "    albuns['tipo'] = album['album_type']\n",
    "    albuns['qtde_artistas'] = len(album['artists'])\n",
    "    albuns['artista'] = album['artists'][0]['name']\n",
    "    lista_de_albuns_lil_whind.append(albuns)"
   ]
  },
  {
   "cell_type": "code",
   "execution_count": 37,
   "metadata": {
    "executionInfo": {
     "elapsed": 11,
     "status": "ok",
     "timestamp": 1676402406292,
     "user": {
      "displayName": "Gabriela Custódio",
      "userId": "12660031906492553036"
     },
     "user_tz": 180
    },
    "id": "ZdqqnuNkHV9i"
   },
   "outputs": [],
   "source": [
    "dfAlbuns_lil_whind = pd.DataFrame(lista_de_albuns_lil_whind)"
   ]
  },
  {
   "cell_type": "code",
   "execution_count": 38,
   "metadata": {
    "executionInfo": {
     "elapsed": 10,
     "status": "ok",
     "timestamp": 1676402406292,
     "user": {
      "displayName": "Gabriela Custódio",
      "userId": "12660031906492553036"
     },
     "user_tz": 180
    },
    "id": "oqFRbFi8UtJ7"
   },
   "outputs": [],
   "source": [
    "dfAlbuns_lil_whind.to_csv(path+'lil_whind_albuns.csv', index=False)"
   ]
  },
  {
   "cell_type": "code",
   "execution_count": 39,
   "metadata": {
    "executionInfo": {
     "elapsed": 11,
     "status": "ok",
     "timestamp": 1676402406293,
     "user": {
      "displayName": "Gabriela Custódio",
      "userId": "12660031906492553036"
     },
     "user_tz": 180
    },
    "id": "bScrwSxGUSWp"
   },
   "outputs": [],
   "source": [
    "newDf_Albuns_lil_whind = dfAlbuns_lil_whind[['nome', 'lançamento', 'tipo', 'artista']].drop_duplicates()"
   ]
  },
  {
   "cell_type": "code",
   "execution_count": 40,
   "metadata": {
    "executionInfo": {
     "elapsed": 11,
     "status": "ok",
     "timestamp": 1676402406293,
     "user": {
      "displayName": "Gabriela Custódio",
      "userId": "12660031906492553036"
     },
     "user_tz": 180
    },
    "id": "xLE-2ZqCHV9j"
   },
   "outputs": [],
   "source": [
    "newDf_Albuns_lil_whind.to_csv(path+'lil_whind_albuns.csv', index=False)"
   ]
  },
  {
   "cell_type": "markdown",
   "metadata": {
    "id": "nMv7TXNFHV9j"
   },
   "source": [
    "## Top 10 <a name=\"Lil-Top10\"></a>"
   ]
  },
  {
   "cell_type": "code",
   "execution_count": 41,
   "metadata": {
    "colab": {
     "base_uri": "https://localhost:8080/"
    },
    "executionInfo": {
     "elapsed": 11,
     "status": "ok",
     "timestamp": 1676402406294,
     "user": {
      "displayName": "Gabriela Custódio",
      "userId": "12660031906492553036"
     },
     "user_tz": 180
    },
    "id": "4wmc-cwcHV9j",
    "outputId": "69fa8aac-0518-4051-cc18-4b918c6b496d"
   },
   "outputs": [
    {
     "data": {
      "text/plain": [
       "10"
      ]
     },
     "execution_count": 41,
     "metadata": {},
     "output_type": "execute_result"
    }
   ],
   "source": [
    "# top 10\n",
    "top_10_music_lil_whind = sp.artist_top_tracks(id_lil_whind)['tracks']\n",
    "len(top_10_music_lil_whind)"
   ]
  },
  {
   "cell_type": "code",
   "execution_count": 42,
   "metadata": {
    "executionInfo": {
     "elapsed": 10,
     "status": "ok",
     "timestamp": 1676402406294,
     "user": {
      "displayName": "Gabriela Custódio",
      "userId": "12660031906492553036"
     },
     "user_tz": 180
    },
    "id": "PGkpMHiCHV9j"
   },
   "outputs": [],
   "source": [
    "top_10_music_lil_whind_list = list()\n",
    "\n",
    "for i, music in enumerate(top_10_music_lil_whind):\n",
    "    nome_artista = music['artists'][0]['name']\n",
    "    id_artista = music['artists'][0]['id']\n",
    "    album = music['album']['name']\n",
    "    id_album = music['album']['id']\n",
    "    lancamento = music['album']['release_date']\n",
    "    musica = music['name']\n",
    "    id_musica = music['id']\n",
    "    popularidade = music['popularity']\n",
    "    if music['is_playable'] == True:\n",
    "        preview_url = music['preview_url']\n",
    "    if music['is_playable'] == False:\n",
    "        preview_url = []\n",
    "        imagem = music['album']['images'][0]['url']\n",
    "\n",
    "    top_10_music_lil_whind_list.append((nome_artista, id_artista, album, id_album, lancamento, musica, id_musica, popularidade, preview_url, imagem))"
   ]
  },
  {
   "cell_type": "code",
   "execution_count": 43,
   "metadata": {
    "executionInfo": {
     "elapsed": 9,
     "status": "ok",
     "timestamp": 1676402406294,
     "user": {
      "displayName": "Gabriela Custódio",
      "userId": "12660031906492553036"
     },
     "user_tz": 180
    },
    "id": "GlNILI9nHV9j"
   },
   "outputs": [],
   "source": [
    "df_top_10_music_lil_whind_list = pd.DataFrame(top_10_music_lil_whind_list, index=None, columns=('artista', 'id_artista', 'album', 'id_album', 'lancamento', 'musica', 'id_musica', 'popularidade', 'preview_url', 'imagem'))"
   ]
  },
  {
   "cell_type": "code",
   "execution_count": 44,
   "metadata": {
    "executionInfo": {
     "elapsed": 10,
     "status": "ok",
     "timestamp": 1676402406295,
     "user": {
      "displayName": "Gabriela Custódio",
      "userId": "12660031906492553036"
     },
     "user_tz": 180
    },
    "id": "KEVt_vP_HV9k"
   },
   "outputs": [],
   "source": [
    "df_top_10_music_lil_whind_list['ano_lancamento'] = df_top_10_music_lil_whind_list['lancamento'].str.slice(start=0, stop=4)"
   ]
  },
  {
   "cell_type": "code",
   "execution_count": 45,
   "metadata": {
    "executionInfo": {
     "elapsed": 253,
     "status": "ok",
     "timestamp": 1676402406539,
     "user": {
      "displayName": "Gabriela Custódio",
      "userId": "12660031906492553036"
     },
     "user_tz": 180
    },
    "id": "nm05LvOIHV9l"
   },
   "outputs": [
    {
     "data": {
      "text/html": [
       "<div>\n",
       "<style scoped>\n",
       "    .dataframe tbody tr th:only-of-type {\n",
       "        vertical-align: middle;\n",
       "    }\n",
       "\n",
       "    .dataframe tbody tr th {\n",
       "        vertical-align: top;\n",
       "    }\n",
       "\n",
       "    .dataframe thead th {\n",
       "        text-align: right;\n",
       "    }\n",
       "</style>\n",
       "<table border=\"1\" class=\"dataframe\">\n",
       "  <thead>\n",
       "    <tr style=\"text-align: right;\">\n",
       "      <th></th>\n",
       "      <th>artista</th>\n",
       "      <th>id_artista</th>\n",
       "      <th>album</th>\n",
       "      <th>id_album</th>\n",
       "      <th>lancamento</th>\n",
       "      <th>musica</th>\n",
       "      <th>id_musica</th>\n",
       "      <th>popularidade</th>\n",
       "      <th>preview_url</th>\n",
       "      <th>imagem</th>\n",
       "      <th>ano_lancamento</th>\n",
       "    </tr>\n",
       "  </thead>\n",
       "  <tbody>\n",
       "    <tr>\n",
       "      <th>0</th>\n",
       "      <td>Matheus Fernandes</td>\n",
       "      <td>37mqXU98U5GmH5ZDtlHM1c</td>\n",
       "      <td>MF No Rio, Vol. 1 (Ao Vivo)</td>\n",
       "      <td>2P8zuC56lsghvc5KHP4rfQ</td>\n",
       "      <td>2023-01-06</td>\n",
       "      <td>Popó - Ao Vivo</td>\n",
       "      <td>24uqb8GiZ3vPbDRHsr1QSK</td>\n",
       "      <td>54</td>\n",
       "      <td>https://p.scdn.co/mp3-preview/a7fba5f698599826...</td>\n",
       "      <td>https://i.scdn.co/image/ab6761610000e5eb5887ba...</td>\n",
       "      <td>2023</td>\n",
       "    </tr>\n",
       "    <tr>\n",
       "      <th>1</th>\n",
       "      <td>Lil Whind</td>\n",
       "      <td>3r3YJUzNBJc9y703QG8zkr</td>\n",
       "      <td>Vivência</td>\n",
       "      <td>5NvmkNmpY7yiDDDMdLGenW</td>\n",
       "      <td>2022-08-19</td>\n",
       "      <td>Barulho de Chuva</td>\n",
       "      <td>1NpfKlm4c7JSNM7PkPSvHr</td>\n",
       "      <td>47</td>\n",
       "      <td>https://p.scdn.co/mp3-preview/d9d63123cb381838...</td>\n",
       "      <td>https://i.scdn.co/image/ab6761610000e5eb5887ba...</td>\n",
       "      <td>2022</td>\n",
       "    </tr>\n",
       "    <tr>\n",
       "      <th>2</th>\n",
       "      <td>Lil Whind</td>\n",
       "      <td>3r3YJUzNBJc9y703QG8zkr</td>\n",
       "      <td>PIAUÍ</td>\n",
       "      <td>5vT7cvpWzUDbLf3W9G9Ycs</td>\n",
       "      <td>2020-09-25</td>\n",
       "      <td>Piauí (feat. Rapadura)</td>\n",
       "      <td>2JkQfYB2dX0PU5IA4BnfNm</td>\n",
       "      <td>45</td>\n",
       "      <td>https://p.scdn.co/mp3-preview/edf9136368c3e384...</td>\n",
       "      <td>https://i.scdn.co/image/ab6761610000e5eb5887ba...</td>\n",
       "      <td>2020</td>\n",
       "    </tr>\n",
       "    <tr>\n",
       "      <th>3</th>\n",
       "      <td>Lil Whind</td>\n",
       "      <td>3r3YJUzNBJc9y703QG8zkr</td>\n",
       "      <td>Vivência</td>\n",
       "      <td>5NvmkNmpY7yiDDDMdLGenW</td>\n",
       "      <td>2022-08-19</td>\n",
       "      <td>Rolê de Fortal</td>\n",
       "      <td>3nAu04esXSliqLvNxOFEpD</td>\n",
       "      <td>44</td>\n",
       "      <td>https://p.scdn.co/mp3-preview/867c4a2492a14d3a...</td>\n",
       "      <td>https://i.scdn.co/image/ab6761610000e5eb5887ba...</td>\n",
       "      <td>2022</td>\n",
       "    </tr>\n",
       "    <tr>\n",
       "      <th>4</th>\n",
       "      <td>Lil Whind</td>\n",
       "      <td>3r3YJUzNBJc9y703QG8zkr</td>\n",
       "      <td>PIAUÍ</td>\n",
       "      <td>5vT7cvpWzUDbLf3W9G9Ycs</td>\n",
       "      <td>2020-09-25</td>\n",
       "      <td>Cerrado</td>\n",
       "      <td>6FBvvUSJ18zvbOgKsrTegX</td>\n",
       "      <td>42</td>\n",
       "      <td>https://p.scdn.co/mp3-preview/86dc100307535e4b...</td>\n",
       "      <td>https://i.scdn.co/image/ab6761610000e5eb5887ba...</td>\n",
       "      <td>2020</td>\n",
       "    </tr>\n",
       "    <tr>\n",
       "      <th>5</th>\n",
       "      <td>Lil Whind</td>\n",
       "      <td>3r3YJUzNBJc9y703QG8zkr</td>\n",
       "      <td>Alok</td>\n",
       "      <td>5lm8TXDnp0tA8fNusiU6I2</td>\n",
       "      <td>2022-02-25</td>\n",
       "      <td>Alok</td>\n",
       "      <td>0MdGA1JNGYoXtLKvlH1fV9</td>\n",
       "      <td>42</td>\n",
       "      <td>https://p.scdn.co/mp3-preview/d2bfbd48d6568c3f...</td>\n",
       "      <td>https://i.scdn.co/image/ab6761610000e5eb5887ba...</td>\n",
       "      <td>2022</td>\n",
       "    </tr>\n",
       "    <tr>\n",
       "      <th>6</th>\n",
       "      <td>Lil Whind</td>\n",
       "      <td>3r3YJUzNBJc9y703QG8zkr</td>\n",
       "      <td>Vivência</td>\n",
       "      <td>5NvmkNmpY7yiDDDMdLGenW</td>\n",
       "      <td>2022-08-19</td>\n",
       "      <td>Rockstar (feat. Matheus Gadelha)</td>\n",
       "      <td>0xijGJFafQsh0q8DU3ldl3</td>\n",
       "      <td>40</td>\n",
       "      <td>https://p.scdn.co/mp3-preview/895a47bffbe11e52...</td>\n",
       "      <td>https://i.scdn.co/image/ab6761610000e5eb5887ba...</td>\n",
       "      <td>2022</td>\n",
       "    </tr>\n",
       "    <tr>\n",
       "      <th>7</th>\n",
       "      <td>Lil Whind</td>\n",
       "      <td>3r3YJUzNBJc9y703QG8zkr</td>\n",
       "      <td>PIAUÍ</td>\n",
       "      <td>5vT7cvpWzUDbLf3W9G9Ycs</td>\n",
       "      <td>2020-09-25</td>\n",
       "      <td>Trap do Gago</td>\n",
       "      <td>0Fdrn8Q2ssLCmvGjxgBjrm</td>\n",
       "      <td>39</td>\n",
       "      <td>https://p.scdn.co/mp3-preview/9c5a348e5debf0cc...</td>\n",
       "      <td>https://i.scdn.co/image/ab6761610000e5eb5887ba...</td>\n",
       "      <td>2020</td>\n",
       "    </tr>\n",
       "    <tr>\n",
       "      <th>8</th>\n",
       "      <td>Lil Whind</td>\n",
       "      <td>3r3YJUzNBJc9y703QG8zkr</td>\n",
       "      <td>Frente &amp; Verso</td>\n",
       "      <td>5YVu9GPffKY7yzcuTRbDm1</td>\n",
       "      <td>2021-10-15</td>\n",
       "      <td>Vida</td>\n",
       "      <td>0KjPr8HO4OqYcgJJjvuJ7M</td>\n",
       "      <td>38</td>\n",
       "      <td>https://p.scdn.co/mp3-preview/c64d2ca9b21342df...</td>\n",
       "      <td>https://i.scdn.co/image/ab6761610000e5eb5887ba...</td>\n",
       "      <td>2021</td>\n",
       "    </tr>\n",
       "    <tr>\n",
       "      <th>9</th>\n",
       "      <td>Lil Whind</td>\n",
       "      <td>3r3YJUzNBJc9y703QG8zkr</td>\n",
       "      <td>Frente &amp; Verso</td>\n",
       "      <td>5YVu9GPffKY7yzcuTRbDm1</td>\n",
       "      <td>2021-10-15</td>\n",
       "      <td>Mó Tristeza</td>\n",
       "      <td>2w72YvAqkZUqFjm8rLTHdt</td>\n",
       "      <td>37</td>\n",
       "      <td>https://p.scdn.co/mp3-preview/b09918ed17141f17...</td>\n",
       "      <td>https://i.scdn.co/image/ab6761610000e5eb5887ba...</td>\n",
       "      <td>2021</td>\n",
       "    </tr>\n",
       "  </tbody>\n",
       "</table>\n",
       "</div>"
      ],
      "text/plain": [
       "             artista              id_artista                        album  \\\n",
       "0  Matheus Fernandes  37mqXU98U5GmH5ZDtlHM1c  MF No Rio, Vol. 1 (Ao Vivo)   \n",
       "1          Lil Whind  3r3YJUzNBJc9y703QG8zkr                     Vivência   \n",
       "2          Lil Whind  3r3YJUzNBJc9y703QG8zkr                        PIAUÍ   \n",
       "3          Lil Whind  3r3YJUzNBJc9y703QG8zkr                     Vivência   \n",
       "4          Lil Whind  3r3YJUzNBJc9y703QG8zkr                        PIAUÍ   \n",
       "5          Lil Whind  3r3YJUzNBJc9y703QG8zkr                         Alok   \n",
       "6          Lil Whind  3r3YJUzNBJc9y703QG8zkr                     Vivência   \n",
       "7          Lil Whind  3r3YJUzNBJc9y703QG8zkr                        PIAUÍ   \n",
       "8          Lil Whind  3r3YJUzNBJc9y703QG8zkr               Frente & Verso   \n",
       "9          Lil Whind  3r3YJUzNBJc9y703QG8zkr               Frente & Verso   \n",
       "\n",
       "                 id_album  lancamento                            musica  \\\n",
       "0  2P8zuC56lsghvc5KHP4rfQ  2023-01-06                    Popó - Ao Vivo   \n",
       "1  5NvmkNmpY7yiDDDMdLGenW  2022-08-19                  Barulho de Chuva   \n",
       "2  5vT7cvpWzUDbLf3W9G9Ycs  2020-09-25            Piauí (feat. Rapadura)   \n",
       "3  5NvmkNmpY7yiDDDMdLGenW  2022-08-19                    Rolê de Fortal   \n",
       "4  5vT7cvpWzUDbLf3W9G9Ycs  2020-09-25                           Cerrado   \n",
       "5  5lm8TXDnp0tA8fNusiU6I2  2022-02-25                              Alok   \n",
       "6  5NvmkNmpY7yiDDDMdLGenW  2022-08-19  Rockstar (feat. Matheus Gadelha)   \n",
       "7  5vT7cvpWzUDbLf3W9G9Ycs  2020-09-25                      Trap do Gago   \n",
       "8  5YVu9GPffKY7yzcuTRbDm1  2021-10-15                              Vida   \n",
       "9  5YVu9GPffKY7yzcuTRbDm1  2021-10-15                       Mó Tristeza   \n",
       "\n",
       "                id_musica  popularidade  \\\n",
       "0  24uqb8GiZ3vPbDRHsr1QSK            54   \n",
       "1  1NpfKlm4c7JSNM7PkPSvHr            47   \n",
       "2  2JkQfYB2dX0PU5IA4BnfNm            45   \n",
       "3  3nAu04esXSliqLvNxOFEpD            44   \n",
       "4  6FBvvUSJ18zvbOgKsrTegX            42   \n",
       "5  0MdGA1JNGYoXtLKvlH1fV9            42   \n",
       "6  0xijGJFafQsh0q8DU3ldl3            40   \n",
       "7  0Fdrn8Q2ssLCmvGjxgBjrm            39   \n",
       "8  0KjPr8HO4OqYcgJJjvuJ7M            38   \n",
       "9  2w72YvAqkZUqFjm8rLTHdt            37   \n",
       "\n",
       "                                         preview_url  \\\n",
       "0  https://p.scdn.co/mp3-preview/a7fba5f698599826...   \n",
       "1  https://p.scdn.co/mp3-preview/d9d63123cb381838...   \n",
       "2  https://p.scdn.co/mp3-preview/edf9136368c3e384...   \n",
       "3  https://p.scdn.co/mp3-preview/867c4a2492a14d3a...   \n",
       "4  https://p.scdn.co/mp3-preview/86dc100307535e4b...   \n",
       "5  https://p.scdn.co/mp3-preview/d2bfbd48d6568c3f...   \n",
       "6  https://p.scdn.co/mp3-preview/895a47bffbe11e52...   \n",
       "7  https://p.scdn.co/mp3-preview/9c5a348e5debf0cc...   \n",
       "8  https://p.scdn.co/mp3-preview/c64d2ca9b21342df...   \n",
       "9  https://p.scdn.co/mp3-preview/b09918ed17141f17...   \n",
       "\n",
       "                                              imagem ano_lancamento  \n",
       "0  https://i.scdn.co/image/ab6761610000e5eb5887ba...           2023  \n",
       "1  https://i.scdn.co/image/ab6761610000e5eb5887ba...           2022  \n",
       "2  https://i.scdn.co/image/ab6761610000e5eb5887ba...           2020  \n",
       "3  https://i.scdn.co/image/ab6761610000e5eb5887ba...           2022  \n",
       "4  https://i.scdn.co/image/ab6761610000e5eb5887ba...           2020  \n",
       "5  https://i.scdn.co/image/ab6761610000e5eb5887ba...           2022  \n",
       "6  https://i.scdn.co/image/ab6761610000e5eb5887ba...           2022  \n",
       "7  https://i.scdn.co/image/ab6761610000e5eb5887ba...           2020  \n",
       "8  https://i.scdn.co/image/ab6761610000e5eb5887ba...           2021  \n",
       "9  https://i.scdn.co/image/ab6761610000e5eb5887ba...           2021  "
      ]
     },
     "execution_count": 45,
     "metadata": {},
     "output_type": "execute_result"
    }
   ],
   "source": [
    "df_top_10_music_lil_whind_list"
   ]
  },
  {
   "cell_type": "code",
   "execution_count": 46,
   "metadata": {
    "executionInfo": {
     "elapsed": 9,
     "status": "ok",
     "timestamp": 1676402406295,
     "user": {
      "displayName": "Gabriela Custódio",
      "userId": "12660031906492553036"
     },
     "user_tz": 180
    },
    "id": "esJlrXRmHV9k"
   },
   "outputs": [],
   "source": [
    "df_top_10_music_lil_whind_list.to_csv(path+'lil_whind_top_10.csv', index=False)"
   ]
  },
  {
   "cell_type": "code",
   "execution_count": null,
   "metadata": {},
   "outputs": [],
   "source": []
  }
 ],
 "metadata": {
  "colab": {
   "authorship_tag": "ABX9TyPuqEbiewDHJ5yu5MAP2j8i",
   "mount_file_id": "1YaeWH8x4BYafaKsSXORxqjhO0Fp0OoeE",
   "provenance": [
    {
     "file_id": "1XSQNtReV7lnCaJwKEsr9Lr-mnZ3UGpgF",
     "timestamp": 1676321586030
    }
   ]
  },
  "kernelspec": {
   "display_name": "Python 3 (ipykernel)",
   "language": "python",
   "name": "python3"
  },
  "language_info": {
   "codemirror_mode": {
    "name": "ipython",
    "version": 3
   },
   "file_extension": ".py",
   "mimetype": "text/x-python",
   "name": "python",
   "nbconvert_exporter": "python",
   "pygments_lexer": "ipython3",
   "version": "3.11.2"
  }
 },
 "nbformat": 4,
 "nbformat_minor": 1
}
